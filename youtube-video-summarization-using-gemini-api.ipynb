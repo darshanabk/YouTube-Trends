{
 "cells": [
  {
   "cell_type": "code",
   "execution_count": 1,
   "id": "34aca02b",
   "metadata": {
    "execution": {
     "iopub.execute_input": "2025-04-19T18:31:45.735156Z",
     "iopub.status.busy": "2025-04-19T18:31:45.734092Z",
     "iopub.status.idle": "2025-04-19T18:31:52.393857Z",
     "shell.execute_reply": "2025-04-19T18:31:52.392803Z"
    },
    "papermill": {
     "duration": 6.66658,
     "end_time": "2025-04-19T18:31:52.395679",
     "exception": false,
     "start_time": "2025-04-19T18:31:45.729099",
     "status": "completed"
    },
    "tags": []
   },
   "outputs": [],
   "source": [
    "import os\n",
    "import shutil\n",
    "from git import Repo\n",
    "import pandas as pd\n",
    "import numpy as np\n",
    "from datetime import datetime\n",
    "from pytz import timezone\n",
    "import json\n",
    "import seaborn as sns\n",
    "import matplotlib.pyplot as plt\n",
    "from kaggle_secrets import UserSecretsClient\n",
    "import google.generativeai as genai\n",
    "from youtube_transcript_api import YouTubeTranscriptApi\n",
    "import textwrap"
   ]
  },
  {
   "cell_type": "code",
   "execution_count": 2,
   "id": "586a74e7",
   "metadata": {
    "execution": {
     "iopub.execute_input": "2025-04-19T18:31:52.404053Z",
     "iopub.status.busy": "2025-04-19T18:31:52.403483Z",
     "iopub.status.idle": "2025-04-19T18:31:52.423173Z",
     "shell.execute_reply": "2025-04-19T18:31:52.422046Z"
    },
    "papermill": {
     "duration": 0.026081,
     "end_time": "2025-04-19T18:31:52.425018",
     "exception": false,
     "start_time": "2025-04-19T18:31:52.398937",
     "status": "completed"
    },
    "tags": []
   },
   "outputs": [],
   "source": [
    "def GenAI(FeatureEngineering_File, api_key):\n",
    "    genai.configure(api_key=api_key)\n",
    "    model = genai.GenerativeModel('gemini-pro')\n",
    "\n",
    "    # Initialize columns\n",
    "    FeatureEngineering_File['videoTranscript'] = None\n",
    "    FeatureEngineering_File['videoTranscriptLog'] = \"\"\n",
    "    for index, row in FeatureEngineering_File.iterrows():\n",
    "        # print(f\"index: {index}\")\n",
    "        video_id = row['videoId']\n",
    "        try:\n",
    "            # First try to list all available transcripts\n",
    "            transcript_list = YouTubeTranscriptApi.list_transcripts(video_id)\n",
    "            # print(transcript_list)\n",
    "            # Find all English variants (any language starting with 'en')\n",
    "            # for t in transcript_list:\n",
    "            #     print(t.language_code)\n",
    "                \n",
    "            english_transcripts = [t.language_code for t in transcript_list if t.language_code.startswith('en')]\n",
    "            FeatureEngineering_File.at[index, 'videoTranscriptLog'] +=(f\"english:{english_transcripts}. \")\n",
    "            if english_transcripts:\n",
    "                # Try to get the most standard English first\n",
    "                try:\n",
    "                    transcript = YouTubeTranscriptApi.get_transcript(video_id, languages=['en'])\n",
    "                    transcript_text = \" \".join([t['text'] for t in transcript])\n",
    "                    if transcript_text.strip() ==\"\":\n",
    "                        FeatureEngineering_File.at[index, 'videoTranscriptLog'] += 'Standard English: No transcripts available. '\n",
    "                        for i in english_transcripts:\n",
    "                            transcript = YouTubeTranscriptApi.get_transcript(video_id, languages=[i])\n",
    "                            transcript_text = \" \".join([t['text'] for t in transcript])\n",
    "                            if transcript_text.strip() ==\"\":\n",
    "                                FeatureEngineering_File.at[index, 'videoTranscriptLog'] += 'Any available English variant: No transcripts available. '\n",
    "                                list_transcript = YouTubeTranscriptApi.list_transcripts(video_id)\n",
    "                                available_langs = [t.language_code for t in list_transcript]\n",
    "                                FeatureEngineering_File.at[index, 'videoTranscriptLog'] += (f\"non-english:{available_langs}. \")\n",
    "                                for i in available_langs:\n",
    "                                    transcript = YouTubeTranscriptApi.get_transcript(video_id, languages=[i])\n",
    "                                    transcript_text = \" \".join([t['text'] for t in transcript])\n",
    "                                    if transcript_text.strip() ==\"\":\n",
    "                                        FeatureEngineering_File.at[index, 'videoTranscriptLog'] += 'Any available transcript other than english: No transcripts available. '\n",
    "                                    else:\n",
    "                                        FeatureEngineering_File.at[index, 'videoTranscript'] = transcript_text\n",
    "                                        # print(transcript_text)\n",
    "                                        break\n",
    "                            else:\n",
    "                                FeatureEngineering_File.at[index, 'videoTranscript'] = transcript_text\n",
    "                                # print(transcript_text)\n",
    "                                break\n",
    "                    else:\n",
    "                        FeatureEngineering_File.at[index, 'videoTranscript'] = transcript_text\n",
    "                        # print(transcript_text)\n",
    "  \n",
    "                        \n",
    "                except:\n",
    "                    # Fall back to any available English variant\n",
    "                     for i in english_transcripts:\n",
    "                            transcript = YouTubeTranscriptApi.get_transcript(video_id, languages=[i])\n",
    "                            transcript_text = \" \".join([t['text'] for t in transcript])\n",
    "                            if transcript_text.strip() ==\"\":\n",
    "                                FeatureEngineering_File.at[index, 'videoTranscriptLog'] += 'Any available English variant: No transcripts available. '\n",
    "                                list_transcript = YouTubeTranscriptApi.list_transcripts(video_id)\n",
    "                                available_langs = [t.language_code for t in list_transcript]\n",
    "                                FeatureEngineering_File.at[index, 'videoTranscriptLog'] += (f\"non-english:{available_langs}. \")\n",
    "                                for i in available_langs:\n",
    "                                    transcript = YouTubeTranscriptApi.get_transcript(video_id, languages=[i])\n",
    "                                    transcript_text = \" \".join([t['text'] for t in transcript])\n",
    "                                    if transcript_text.strip() ==\"\":\n",
    "                                        FeatureEngineering_File.at[index, 'videoTranscriptLog'] += 'Any available transcript other than english: No transcripts available. '\n",
    "                                    else:\n",
    "                                        FeatureEngineering_File.at[index, 'videoTranscript'] = transcript_text\n",
    "                                        # print(transcript_text)\n",
    "                                        break\n",
    "                            else:\n",
    "                                FeatureEngineering_File.at[index, 'videoTranscript'] = transcript_text\n",
    "                                # print(transcript_text)\n",
    "                                break\n",
    "            else:\n",
    "                # No English available - try to get any available transcript\n",
    "                try:\n",
    "                    # Get the first available transcript\n",
    "                    list_transcript = YouTubeTranscriptApi.list_transcripts(video_id)\n",
    "                    available_langs = [t.language_code for t in list_transcript]\n",
    "                    for i in available_langs:\n",
    "                        transcript = YouTubeTranscriptApi.get_transcript(video_id, languages=[i])\n",
    "                        transcript_text = \" \".join([t['text'] for t in transcript])\n",
    "                        if transcript_text.strip() ==\"\":\n",
    "                            FeatureEngineering_File.at[index, 'videoTranscriptLog'] += 'Any available transcript other than english: No transcripts available. '\n",
    "                        else:\n",
    "                            FeatureEngineering_File.at[index, 'videoTranscript'] = transcript_text\n",
    "                            # print(transcript_text)\n",
    "                            break\n",
    "                   \n",
    "                except Exception as fallback_error:\n",
    "                    FeatureEngineering_File.at[index, 'videoTranscriptLog'] += (f\"No transcripts available. Error: {str(fallback_error)} \")\n",
    "        except Exception as e:\n",
    "            FeatureEngineering_File.at[index, 'videoTranscriptLog'] += (f\"Error getting transcript for video ID {video_id}: {str(e)} \")\n",
    "        if FeatureEngineering_File.at[index, 'videoTranscriptLog'] == \"\":\n",
    "            FeatureEngineering_File.at[index, 'videoTranscriptLog'] = None\n",
    "    return FeatureEngineering_File\n",
    "    "
   ]
  },
  {
   "cell_type": "code",
   "execution_count": 3,
   "id": "b2b5051b",
   "metadata": {
    "execution": {
     "iopub.execute_input": "2025-04-19T18:31:52.431791Z",
     "iopub.status.busy": "2025-04-19T18:31:52.431474Z",
     "iopub.status.idle": "2025-04-19T18:31:52.437344Z",
     "shell.execute_reply": "2025-04-19T18:31:52.436403Z"
    },
    "papermill": {
     "duration": 0.011147,
     "end_time": "2025-04-19T18:31:52.439058",
     "exception": false,
     "start_time": "2025-04-19T18:31:52.427911",
     "status": "completed"
    },
    "tags": []
   },
   "outputs": [],
   "source": [
    "# def GenAI(FeatureEngineering_File, api_key):\n",
    "#     genai.configure(api_key=api_key)\n",
    "#     model = genai.GenerativeModel('gemini-pro')\n",
    "\n",
    "#     # Initialize columns\n",
    "#     FeatureEngineering_File['videoTranscript'] = None\n",
    "#     FeatureEngineering_File['videoTranscriptNonEnglish'] = None\n",
    "#     FeatureEngineering_File['videoTranscriptLog'] = None\n",
    "    \n",
    "#     for index, row in FeatureEngineering_File.iterrows():\n",
    "#         video_id = row['videoId']\n",
    "#         try:\n",
    "#             # First try to list all available transcripts\n",
    "#             transcript_list = YouTubeTranscriptApi.list_transcripts(video_id)\n",
    "            \n",
    "#             # Find all English variants (any language starting with 'en')\n",
    "#             english_transcripts = [t for t in transcript_list if t.language_code.startswith('en')]\n",
    "            \n",
    "#             if english_transcripts:\n",
    "#                 # Try to get the most standard English first\n",
    "#                 try:\n",
    "#                     transcript = YouTubeTranscriptApi.get_transcript(video_id, languages=['en'])\n",
    "#                     transcript_text = \" \".join([t['text'] for t in transcript])\n",
    "#                     FeatureEngineering_File.at[index, 'videoTranscript'] = transcript_text\n",
    "#                     FeatureEngineering_File.at[index, 'videoTranscriptLog'] = \"Used standard English (en)\"\n",
    "#                 except:\n",
    "#                     # Fall back to any available English variant\n",
    "#                     english_transcripts[0].fetch()\n",
    "#                     transcript = english_transcripts[0].fetch()\n",
    "#                     transcript_text = \" \".join([t['text'] for t in transcript])\n",
    "#                     FeatureEngineering_File.at[index, 'videoTranscript'] = transcript_text\n",
    "#                     FeatureEngineering_File.at[index, 'videoTranscriptLog'] = f\"Used {english_transcripts[0].language_code}\"\n",
    "#             else:\n",
    "#                 # No English available - try to get any available transcript\n",
    "#                 try:\n",
    "#                     # Get the first available transcript\n",
    "#                     transcript = transcript_list[0].fetch()\n",
    "#                     transcript_text = \" \".join([t['text'] for t in transcript])\n",
    "#                     FeatureEngineering_File.at[index, 'videoTranscriptNonEnglish'] = transcript_text\n",
    "                    \n",
    "#                     # Log available languages\n",
    "#                     available_langs = [t.language_code for t in transcript_list]\n",
    "#                     FeatureEngineering_File.at[index, 'videoTranscriptLog'] = (\n",
    "#                         f\"No English available. Used {transcript_list[0].language_code}. \"\n",
    "#                         f\"Available languages: {available_langs}\"\n",
    "#                     )\n",
    "#                 except Exception as fallback_error:\n",
    "#                     FeatureEngineering_File.at[index, 'videoTranscriptLog'] = (\n",
    "#                         f\"No transcripts available. Error: {str(fallback_error)}\"\n",
    "#                     )\n",
    "                \n",
    "#         except Exception as e:\n",
    "#             print(f\"Error getting transcript for video ID {video_id}: {e}\")\n",
    "#             FeatureEngineering_File.at[index, 'videoTranscriptLog'] = str(e)\n",
    "    \n",
    "#     return FeatureEngineering_File"
   ]
  },
  {
   "cell_type": "code",
   "execution_count": 4,
   "id": "08fd6705",
   "metadata": {
    "execution": {
     "iopub.execute_input": "2025-04-19T18:31:52.446379Z",
     "iopub.status.busy": "2025-04-19T18:31:52.445593Z",
     "iopub.status.idle": "2025-04-19T18:31:52.452636Z",
     "shell.execute_reply": "2025-04-19T18:31:52.451773Z"
    },
    "papermill": {
     "duration": 0.012392,
     "end_time": "2025-04-19T18:31:52.454291",
     "exception": false,
     "start_time": "2025-04-19T18:31:52.441899",
     "status": "completed"
    },
    "tags": []
   },
   "outputs": [],
   "source": [
    "def FeatureEngineering_File_Extraction(repo_url, kaggle_repo_url, FeatureEngineering_path):\n",
    "    if os.path.exists(kaggle_repo_url):\n",
    "        print(\"Repository already exists locally.\")\n",
    "        repo = Repo(kaggle_repo_url)  \n",
    "        repo.config_writer().set_value(\"user\", \"name\", name).release()\n",
    "        repo.config_writer().set_value(\"user\", \"email\", email).release()\n",
    "        origin = repo.remote(name='origin')  \n",
    "        origin.pull() \n",
    "        print(\"Successfully pulled the latest changes.\")\n",
    "    else:\n",
    "        repo = Repo.clone_from(repo_url, kaggle_repo_url)\n",
    "        repo.config_writer().set_value(\"user\", \"name\", name).release()\n",
    "        repo.config_writer().set_value(\"user\", \"email\", email).release()\n",
    "        print(\"Successfully cloned the repository.\")\n",
    "\n",
    "   \n",
    "    output_files = os.listdir(FeatureEngineering_path)\n",
    "    FeatureEngineering_File = max(\n",
    "        [file for file in output_files if file.startswith(\"FE_\") and file.endswith('records.json')]\n",
    "    )\n",
    "\n",
    "   \n",
    "    FeatureEngineering_File = pd.read_json(os.path.join(FeatureEngineering_path, FeatureEngineering_File))\n",
    "\n",
    "    return FeatureEngineering_File"
   ]
  },
  {
   "cell_type": "code",
   "execution_count": 5,
   "id": "a86f3a7f",
   "metadata": {
    "execution": {
     "iopub.execute_input": "2025-04-19T18:31:52.461255Z",
     "iopub.status.busy": "2025-04-19T18:31:52.460912Z",
     "iopub.status.idle": "2025-04-19T18:31:52.467197Z",
     "shell.execute_reply": "2025-04-19T18:31:52.466231Z"
    },
    "papermill": {
     "duration": 0.011867,
     "end_time": "2025-04-19T18:31:52.468944",
     "exception": false,
     "start_time": "2025-04-19T18:31:52.457077",
     "status": "completed"
    },
    "tags": []
   },
   "outputs": [],
   "source": [
    "def RawFile(dataframe):\n",
    "    try:\n",
    "        # Check if the DataFrame is not empty before saving.\n",
    "        if not dataframe.empty:\n",
    "            # Count the number of records (rows) in the DataFrame\n",
    "            record_count = len(dataframe)\n",
    "            \n",
    "            # Generate a timestamp for the file name using the current time in IST (Indian Standard Time).\n",
    "            timestamp = datetime.now(ist).strftime(\"%Y-%m-%d_%H_%M_%S\")\n",
    "        \n",
    "            # Create a filename using the generated timestamp to ensure uniqueness with number of records.\n",
    "            filename = f\"YTSGENAI_{timestamp}_{record_count}_records.json\"\n",
    "            \n",
    "            # Save the DataFrame to a JSON file with readable formatting.\n",
    "            dataframe.to_json(filename, orient=\"records\", indent=4)\n",
    "            print(f\"DataFrame saved as {filename}\")\n",
    "        else:\n",
    "            # Log a message if the DataFrame is empty.\n",
    "            print(\"No data to save since empty DataFrame returned.\")\n",
    "        \n",
    "        # Return True indicating the process was successful.\n",
    "        return True\n",
    "    except Exception as e:\n",
    "        # Handle and log any errors that occur during the process.\n",
    "        print(f\"Error during raw file creation: {e}\")\n",
    "        \n",
    "        # Return False indicating the process failed.\n",
    "        return False"
   ]
  },
  {
   "cell_type": "code",
   "execution_count": 6,
   "id": "aeeab044",
   "metadata": {
    "execution": {
     "iopub.execute_input": "2025-04-19T18:31:52.475987Z",
     "iopub.status.busy": "2025-04-19T18:31:52.475633Z",
     "iopub.status.idle": "2025-04-19T18:31:52.485183Z",
     "shell.execute_reply": "2025-04-19T18:31:52.484145Z"
    },
    "papermill": {
     "duration": 0.015172,
     "end_time": "2025-04-19T18:31:52.486837",
     "exception": false,
     "start_time": "2025-04-19T18:31:52.471665",
     "status": "completed"
    },
    "tags": []
   },
   "outputs": [],
   "source": [
    "def PushToGithub(destination_path):\n",
    "    \n",
    "    try:\n",
    "        output_files = os.listdir('/kaggle/working')\n",
    "        filename = [file for file in output_files if file.startswith(\"YTSGENAI_\") and file.endswith(\"_records.json\")]\n",
    "        if filename:\n",
    "            filename = max(filename, key=os.path.getctime)  # Get the latest file based on creation time\n",
    "        else:\n",
    "            raise ValueError(\"No JSON files found!\")\n",
    "            \n",
    "        if os.path.exists(kaggle_repo_url):\n",
    "            print(\"Already cloned and the repo file exists\")\n",
    "            repo = Repo(kaggle_repo_url)\n",
    "            repo.config_writer().set_value(\"user\", \"name\", name).release()\n",
    "            repo.config_writer().set_value(\"user\", \"email\", email).release()\n",
    "            origin = repo.remote(name='origin')\n",
    "            origin.pull()\n",
    "            print(\"Successfully pulled the git repo before push\")\n",
    "        else:\n",
    "            repo = Repo.clone_from(repo_url, kaggle_repo_url)\n",
    "            repo.config_writer().set_value(\"user\", \"name\", name).release()\n",
    "            repo.config_writer().set_value(\"user\", \"email\", email).release()\n",
    "            print(\"Successfully cloned the git repo\")\n",
    "        \n",
    "        if os.path.exists(destination_path):\n",
    "            shutil.copyfile(f'/kaggle/working/{filename}', f'{destination_path}/{filename}')\n",
    "        else:\n",
    "            os.makedirs(destination_path)\n",
    "            shutil.copyfile(f'/kaggle/working/{filename}', f'{destination_path}/{filename}')\n",
    "        \n",
    "        repo = Repo(kaggle_repo_url)\n",
    "        repo.index.add([f\"{destination_path}/{filename}\"])\n",
    "        timestamp = datetime.now(ist).strftime(\"%Y-%m-%d_%H:%M:%S\")\n",
    "        repo.index.commit(f\"{timestamp} Added files from Kaggle notebook, {filename}\")\n",
    "        origin = repo.remote(name=\"origin\")\n",
    "        # push_result = origin.push()\n",
    "        push_result = origin.push(refspec=f\"HEAD:refs/heads/functionality-or-workflow-development\")\n",
    "        \n",
    "        if push_result:\n",
    "            print(\"Output files successfully pushed to GitHub!\")\n",
    "        else:\n",
    "            print(\"Output files pushed to GitHub failed:(\")\n",
    "        return True\n",
    "    \n",
    "    except Exception as e:\n",
    "        print(f\"An error occurred at git automation code: {e}\")\n",
    "        return False"
   ]
  },
  {
   "cell_type": "code",
   "execution_count": 7,
   "id": "de8cac5c",
   "metadata": {
    "execution": {
     "iopub.execute_input": "2025-04-19T18:31:52.493559Z",
     "iopub.status.busy": "2025-04-19T18:31:52.493179Z",
     "iopub.status.idle": "2025-04-19T18:31:52.498629Z",
     "shell.execute_reply": "2025-04-19T18:31:52.497575Z"
    },
    "papermill": {
     "duration": 0.010805,
     "end_time": "2025-04-19T18:31:52.500349",
     "exception": false,
     "start_time": "2025-04-19T18:31:52.489544",
     "status": "completed"
    },
    "tags": []
   },
   "outputs": [],
   "source": [
    "def main():\n",
    "    FeatureEngineering_File = FeatureEngineering_File_Extraction(repo_url, kaggle_repo_url, FeatureEngineering_path)\n",
    "    dataframe = pd.DataFrame(FeatureEngineering_File)\n",
    "    dataframe = GenAI(dataframe,api_key)\n",
    "    RawFile(dataframe)\n",
    "    PushToGithub(VideoSummarization_path)\n",
    "    # print(dataframe_transcript['videoTranscript'])\n",
    "    # print(dataframe_transcript['videoTranscriptLog'].isna().sum())\n",
    "    return True"
   ]
  },
  {
   "cell_type": "code",
   "execution_count": 8,
   "id": "dbea5161",
   "metadata": {
    "execution": {
     "iopub.execute_input": "2025-04-19T18:31:52.508392Z",
     "iopub.status.busy": "2025-04-19T18:31:52.508068Z",
     "iopub.status.idle": "2025-04-19T18:36:24.516395Z",
     "shell.execute_reply": "2025-04-19T18:36:24.515259Z"
    },
    "papermill": {
     "duration": 272.015009,
     "end_time": "2025-04-19T18:36:24.518115",
     "exception": false,
     "start_time": "2025-04-19T18:31:52.503106",
     "status": "completed"
    },
    "tags": []
   },
   "outputs": [
    {
     "name": "stdout",
     "output_type": "stream",
     "text": [
      "Successfully cloned the repository.\n",
      "DataFrame saved as YTSGENAI_2025-04-20_00_06_23_390_records.json\n",
      "Already cloned and the repo file exists\n",
      "Successfully pulled the git repo before push\n",
      "Output files successfully pushed to GitHub!\n"
     ]
    }
   ],
   "source": [
    "if __name__ == \"__main__\":    \n",
    "    user_secrets = UserSecretsClient()\n",
    "    secret_value_0 = user_secrets.get_secret(\"AuthorName\")\n",
    "    secret_value_1 = user_secrets.get_secret(\"gitEmail\")\n",
    "    secret_value_2 = user_secrets.get_secret(\"GOOGLE_API_KEY\")\n",
    "    secret_value_3 = user_secrets.get_secret(\"repo_url_youtube_analysis\")\n",
    "\n",
    "    name = secret_value_0\n",
    "    email = secret_value_1\n",
    "    api_key = secret_value_2\n",
    "    repo_url = secret_value_3\n",
    "    \n",
    "    kaggle_repo_url = '/kaggle/working/DevOps-YouTube-Trends'\n",
    "    FeatureEngineering_path = '/kaggle/working/DevOps-YouTube-Trends/FeatureEngineering/Daily'\n",
    "    VideoSummarization_path = '/kaggle/working/DevOps-YouTube-Trends/VideoSummarization/Daily'\n",
    "\n",
    "    ist = timezone(\"Asia/Kolkata\")\n",
    "    \n",
    "    main()"
   ]
  },
  {
   "cell_type": "code",
   "execution_count": 9,
   "id": "d58380a2",
   "metadata": {
    "execution": {
     "iopub.execute_input": "2025-04-19T18:36:24.526109Z",
     "iopub.status.busy": "2025-04-19T18:36:24.525804Z",
     "iopub.status.idle": "2025-04-19T18:36:24.533383Z",
     "shell.execute_reply": "2025-04-19T18:36:24.532230Z"
    },
    "papermill": {
     "duration": 0.01335,
     "end_time": "2025-04-19T18:36:24.535051",
     "exception": false,
     "start_time": "2025-04-19T18:36:24.521701",
     "status": "completed"
    },
    "tags": []
   },
   "outputs": [
    {
     "data": {
      "text/plain": [
       "['XvtFppcynYM',\n",
       " 'mg1ZqahIpVw',\n",
       " 'xH5EY7FCFQw',\n",
       " 'an8SrFtJBdM',\n",
       " 'Qm79wDSCZ-w',\n",
       " 'vPd7H8EMmD0']"
      ]
     },
     "execution_count": 9,
     "metadata": {},
     "output_type": "execute_result"
    }
   ],
   "source": [
    "['XvtFppcynYM','mg1ZqahIpVw','xH5EY7FCFQw','an8SrFtJBdM','Qm79wDSCZ-w','vPd7H8EMmD0']"
   ]
  }
 ],
 "metadata": {
  "kaggle": {
   "accelerator": "none",
   "dataSources": [],
   "isGpuEnabled": false,
   "isInternetEnabled": true,
   "language": "python",
   "sourceType": "notebook"
  },
  "kernelspec": {
   "display_name": "Python 3",
   "language": "python",
   "name": "python3"
  },
  "language_info": {
   "codemirror_mode": {
    "name": "ipython",
    "version": 3
   },
   "file_extension": ".py",
   "mimetype": "text/x-python",
   "name": "python",
   "nbconvert_exporter": "python",
   "pygments_lexer": "ipython3",
   "version": "3.11.11"
  },
  "papermill": {
   "default_parameters": {},
   "duration": 286.486744,
   "end_time": "2025-04-19T18:36:27.160151",
   "environment_variables": {},
   "exception": null,
   "input_path": "__notebook__.ipynb",
   "output_path": "__notebook__.ipynb",
   "parameters": {},
   "start_time": "2025-04-19T18:31:40.673407",
   "version": "2.6.0"
  }
 },
 "nbformat": 4,
 "nbformat_minor": 5
}
