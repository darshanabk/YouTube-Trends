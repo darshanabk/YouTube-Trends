{
 "cells": [
  {
   "cell_type": "code",
   "execution_count": 1,
   "id": "94eaf6a6",
   "metadata": {
    "execution": {
     "iopub.execute_input": "2025-05-01T15:25:09.083068Z",
     "iopub.status.busy": "2025-05-01T15:25:09.082690Z",
     "iopub.status.idle": "2025-05-01T15:25:12.030446Z",
     "shell.execute_reply": "2025-05-01T15:25:12.029671Z"
    },
    "papermill": {
     "duration": 2.954649,
     "end_time": "2025-05-01T15:25:12.032039",
     "exception": false,
     "start_time": "2025-05-01T15:25:09.077390",
     "status": "completed"
    },
    "tags": []
   },
   "outputs": [],
   "source": [
    "import os\n",
    "import shutil\n",
    "from git import Repo\n",
    "import pandas as pd\n",
    "import numpy as np\n",
    "from datetime import datetime\n",
    "from pytz import timezone\n",
    "import json\n",
    "from kaggle_secrets import UserSecretsClient\n",
    "import plotly.express as px\n",
    "import plotly.graph_objects as go\n",
    "from pandas.api.types import CategoricalDtype\n",
    "import time\n",
    "import io\n",
    "import plotly.io as pio\n",
    "pio.renderers.default = \"iframe_connected\" #\"iframe_connected\"\n",
    "pd.set_option('future.no_silent_downcasting', True)\n"
   ]
  },
  {
   "cell_type": "markdown",
   "id": "99825eab",
   "metadata": {
    "papermill": {
     "duration": 0.003385,
     "end_time": "2025-05-01T15:25:12.039385",
     "exception": false,
     "start_time": "2025-05-01T15:25:12.036000",
     "status": "completed"
    },
    "tags": []
   },
   "source": [
    "# **📊 Choosing the Right Univariate Analysis Plot**  \n",
    "\n",
    "## **🔍 Step 1: Key Statistical Measures (Default)**\n",
    "Before visualizing, analyze the core statistics to understand the data distribution.  \n",
    "\n",
    "| **Measure** | **Description** | **Why It Matters?** |\n",
    "|------------|---------------|--------------------|\n",
    "| **Count** | Number of non-null values | Checks data completeness |\n",
    "| **Mean** | Average of values | Measures central tendency |\n",
    "| **Median** | Middle value (50th percentile) | Less affected by outliers |\n",
    "| **Mode** | Most frequent value | Useful for categorical or discrete data |\n",
    "| **Min** | Smallest value | Defines range |\n",
    "| **Max** | Largest value | Defines range |\n",
    "| **Standard Deviation (std)** | Spread of data | Higher std = more variation |\n",
    "| **Variance** | Squared standard deviation | Measures dispersion |\n",
    "| **25th Percentile (Q1)** | Lower quartile | 25% of data falls below this |\n",
    "| **75th Percentile (Q3)** | Upper quartile | 75% of data falls below this |\n",
    "| **Interquartile Range (IQR)** | Q3 - Q1 | Helps detect outliers |\n",
    "| **Skewness** | Asymmetry of data distribution | 0 = symmetric, >0 = right-skewed, <0 = left-skewed |\n",
    "| **Kurtosis** | Measures tail weight | High = heavy tails, low = light tails |\n",
    "\n",
    "---\n",
    "\n",
    "## **📊 Step 2: Automated Graph Selection for Numerical Data**\n",
    "\n",
    "### **1️⃣ Histogram (For Discrete Data)**\n",
    "- **When to use?**  \n",
    "  * To check **buckets (bins) and counts** in numeric data.  \n",
    "  * Ideal for **discrete or grouped numerical data** (e.g., age groups, salaries).\n",
    "  * Helps in detecting **skewness** and approximate **distribution**.  \n",
    "\n",
    "- **Best Approach:**  \n",
    "  - Use **Histogram + Key Statistics** if the data has **discrete values** (e.g., `10, 20, 30` bins).  \n",
    "  - Example: Salary ranges, test scores, age groups.  \n",
    "\n",
    "---\n",
    "\n",
    "### **2️⃣ Kernel Density Estimation (KDE) Plot (For Continuous Data)**\n",
    "- **When to use?**  \n",
    "  * For **continuous numerical data** to visualize the **smooth density curve**.\n",
    "  * Ideal for datasets with **many unique values** (e.g., height, weight, income).  \n",
    "  * Useful when **understanding distribution trends** is more important than individual counts.  \n",
    "\n",
    "- **Best Approach:**  \n",
    "  - Use **KDE + Key Statistics** for **highly continuous** data.  \n",
    "  - Example: Temperature, stock prices, blood pressure levels.  \n",
    "\n",
    "---\n",
    "\n",
    "### **📌 Step 3: BoxPlot?**\n",
    "- ❌ **Not needed if outliers are already cleaned.**  \n",
    "- ✅ **Use BoxPlot only when checking for remaining outliers.**  \n",
    "- It helps **visualize skewness, quartiles, and anomalies.**\n",
    "\n",
    "---\n",
    "\n",
    "## **Summary Table for Numerical Data**  \n",
    "\n",
    "| Data Type       | Recommended Plots |\n",
    "|----------------|-----------------|\n",
    "| Discrete Data (10, 20, 30, etc.) | **Histogram + Key Statistics** |\n",
    "| Continuous Data (e.g., 0.1, 0.2, 0.3, etc.) | **KDE + Key Statistics** |\n",
    "| Outlier Detection (if needed) | **BoxPlot** |\n",
    "\n",
    "---\n",
    "\n",
    "### **🚀 Final Approach:**\n",
    "1️⃣ **Start with Key Statistical Measures.**  \n",
    "2️⃣ **Use Histogram (Discrete) or KDE (Continuous).**  \n",
    "3️⃣ **BoxPlot is optional (only if outliers exist).**  \n",
    "\n"
   ]
  },
  {
   "cell_type": "markdown",
   "id": "71268e37",
   "metadata": {
    "papermill": {
     "duration": 0.002819,
     "end_time": "2025-05-01T15:25:12.045358",
     "exception": false,
     "start_time": "2025-05-01T15:25:12.042539",
     "status": "completed"
    },
    "tags": []
   },
   "source": [
    "## **Automated Graph Selection for Categorical Data**\n",
    "\n",
    "| **Condition** | **Best Visualization** | **Reason** |\n",
    "|--------------|-----------------|----------|\n",
    "| **Unique categories > 10** | **Bar Chart** | Too many categories make Pie Charts cluttered. Bar charts handle large categories better. |\n",
    "| **Unique categories ≤ 10** | **Pie Chart** | Pie charts are useful when comparing a few categories. |\n",
    "| **Unique categories ≤ 5** | **Pie Chart (default)** | Clear and easy to interpret. |\n",
    "| **For quick insights** | **Count Plot** | Seaborn’s `countplot()` provides a cleaner bar chart. |\n"
   ]
  },
  {
   "cell_type": "code",
   "execution_count": 2,
   "id": "47737f2c",
   "metadata": {
    "execution": {
     "iopub.execute_input": "2025-05-01T15:25:12.052883Z",
     "iopub.status.busy": "2025-05-01T15:25:12.052584Z",
     "iopub.status.idle": "2025-05-01T15:25:12.064996Z",
     "shell.execute_reply": "2025-05-01T15:25:12.063897Z"
    },
    "papermill": {
     "duration": 0.017911,
     "end_time": "2025-05-01T15:25:12.066319",
     "exception": false,
     "start_time": "2025-05-01T15:25:12.048408",
     "status": "completed"
    },
    "tags": []
   },
   "outputs": [],
   "source": [
    "def univariate(column: pd.Series):\n",
    "    \"\"\"\n",
    "    Automated Univariate Analysis for a given DataFrame.\n",
    "    Displays key statistics and corresponding graph with fixed Plotly rendering.\n",
    "    \"\"\"\n",
    "    columnType = column.dtype\n",
    "    total_values = len(column)\n",
    "    unique_values = column.nunique()\n",
    "    unique_ratio = unique_values / total_values\n",
    "    col_name = column.name\n",
    "\n",
    "    # Print Key Statistics\n",
    "    if pd.api.types.is_numeric_dtype(column):\n",
    "        print(f\"📊 **Key Statistical Measures for {col_name}**:\\n\")\n",
    "        key_stats = column.describe().to_frame().T\n",
    "        print(key_stats.to_string(index=False), \"\\n\")\n",
    "\n",
    "    # Create a figure variable outside the conditions\n",
    "    fig = None\n",
    "    \n",
    "    if pd.api.types.is_numeric_dtype(column):\n",
    "        col_min = column.min()\n",
    "        col_max = column.max()\n",
    "\n",
    "        if unique_values <= 31:\n",
    "            print(f\"🔍 Using Bar Chart for Discrete Numeric Data: {col_name}\")\n",
    "            count_df = column.value_counts().reset_index()\n",
    "            count_df.columns = [col_name, \"Count\"]\n",
    "            fig = px.bar(count_df, x=col_name, y=\"Count\", text=\"Count\",\n",
    "                        title=f\"Univariate Analysis: {col_name}\")\n",
    "        \n",
    "        elif unique_values < 50:\n",
    "            print(f\"🔍 Using Histogram for Discrete Numeric Data: {col_name}\")\n",
    "            bin_edges = np.histogram_bin_edges(column.dropna(), bins='auto')\n",
    "            fig = px.histogram(column, x=col_name, nbins=len(bin_edges)-1, \n",
    "                             title=f\"Univariate Analysis: {col_name}\")\n",
    "        \n",
    "        else:\n",
    "            print(f\"🔍 Using KDE-like Histogram for Continuous Data: {col_name}\")\n",
    "            bin_edges = np.histogram_bin_edges(column.dropna(), bins='auto')\n",
    "            fig = px.histogram(column, x=col_name, nbins=len(bin_edges)-1,\n",
    "                             histnorm='density', opacity=0.7,\n",
    "                             marginal=\"rug\", title=f\"Univariate Analysis: {col_name}\")\n",
    "    \n",
    "    elif isinstance(columnType, CategoricalDtype) or columnType == object:\n",
    "        if unique_ratio > 0.5:\n",
    "            print(f\"⚠️ Skipping `{col_name}`: High cardinality ({unique_values} unique out of {total_values})\")\n",
    "            print(\"⚠️ Skipped for visualization due to high cardinality.\\n\")\n",
    "        else:\n",
    "            category_counts = column.value_counts(normalize=True) * 100\n",
    "            category_table = pd.DataFrame({\"Category\": category_counts.index, \n",
    "                                         \"Percentage\": category_counts.values.round(2)})\n",
    "            print(f\"📊 **Category Frequency Counts for {col_name}**:\\n\")\n",
    "            print(category_table.to_string(index=False), \"\\n\")\n",
    "\n",
    "            if unique_values > 10:\n",
    "                print(f\"🔍 Using Bar Chart for {col_name} (too many categories for pie chart)\")\n",
    "                fig = px.bar(category_table, y='Percentage', x='Category', orientation='v',\n",
    "                            title=f\"Univariate Analysis: {col_name}\", text='Percentage')\n",
    "            else:\n",
    "                print(f\"🔍 Using Pie Chart for {col_name} (categories: {unique_values})\")\n",
    "                fig = px.pie(category_table, names='Category', values='Percentage',\n",
    "                            title=f\"Univariate Analysis: {col_name}\", hole=0.3)\n",
    "\n",
    "    else:\n",
    "        print(f\"⚠️ Unsupported Data Type for {col_name}: {columnType}\")\n",
    "    \n",
    "    # Display the figure at the end if it exists\n",
    "    if fig:\n",
    "        # Update layout for better display\n",
    "        # fig.update_layout(\n",
    "        #     margin=dict(l=20, r=20, t=40, b=20),\n",
    "        #     height=500,\n",
    "        #     width=800\n",
    "        # )\n",
    "        fig.show()\n",
    "        time.sleep(1)\n",
    "    \n",
    "    return True"
   ]
  },
  {
   "cell_type": "code",
   "execution_count": 3,
   "id": "8eb77e7b",
   "metadata": {
    "execution": {
     "iopub.execute_input": "2025-05-01T15:25:12.074015Z",
     "iopub.status.busy": "2025-05-01T15:25:12.073772Z",
     "iopub.status.idle": "2025-05-01T15:25:12.078039Z",
     "shell.execute_reply": "2025-05-01T15:25:12.077407Z"
    },
    "papermill": {
     "duration": 0.009592,
     "end_time": "2025-05-01T15:25:12.079207",
     "exception": false,
     "start_time": "2025-05-01T15:25:12.069615",
     "status": "completed"
    },
    "tags": []
   },
   "outputs": [],
   "source": [
    "# def univariate(column):\n",
    "#     \"\"\"\n",
    "#     Automated Univariate Analysis: Selects the best visualization \n",
    "#     based on data type and characteristics.\n",
    "    \n",
    "#     Parameters:\n",
    "#     - graphName: str -> The preferred visualization type (optional, default logic applies).\n",
    "#     - column: pandas Series -> The column to analyze.\n",
    "    \n",
    "#     Returns:\n",
    "#     - Displays the appropriate visualization.\n",
    "#     - Prints Key Statistical Measures in a tabular format for numerical data.\n",
    "#     \"\"\"\n",
    "    \n",
    "#     columnType = column.dtype  # Get the column data type\n",
    "\n",
    "#     if pd.api.types.is_numeric_dtype(column):  # Check if numeric\n",
    "#         # Step 1: Key Statistical Measures (Default)\n",
    "#         key_stats = column.describe().to_frame().T  # Convert to DataFrame for tabular format\n",
    "#         key_stats.rename(index={0: \"Statistics\"}, inplace=True)\n",
    "#         print(\"📊 **Key Statistical Measures**:\\n\")\n",
    "#         print(key_stats.to_string(index=False), \"\\n\")  # Print neatly formatted table\n",
    "\n",
    "#         # Step 2: Automated Graph Selection\n",
    "#         unique_values = column.nunique()\n",
    "\n",
    "#         plt.figure(figsize=(8, 4))  # Set figure size\n",
    "        \n",
    "#         if unique_values < 20:  # Discrete Data\n",
    "#             print(\"🔍 Using Histogram for Discrete Data\")\n",
    "#             sns.histplot(column, bins=10, kde=False, color=\"skyblue\")\n",
    "        \n",
    "#         else:  # Continuous Data\n",
    "#             print(\"🔍 Using KDE for Continuous Data\")\n",
    "#             sns.kdeplot(column, fill=True, color=\"orange\")\n",
    "\n",
    "#         plt.title(f\"Univariate Analysis of {column.name}\")\n",
    "#         plt.xlabel(column.name)\n",
    "#         plt.ylabel(\"Frequency\")\n",
    "#         plt.show()\n",
    "\n",
    "#     elif pd.api.types.is_categorical_dtype(column) or column.nunique() < 10:  # Categorical Data\n",
    "#         category_counts = column.value_counts(normalize=True) * 100\n",
    "#         category_table = pd.DataFrame({\"Category\": category_counts.index, \"Percentage\": category_counts.values})\n",
    "#         print(\"📊 **Category Frequency Counts**:\\n\")\n",
    "#         print(category_table.to_string(index=False), \"\\n\")  # Print neatly formatted category table\n",
    "\n",
    "#         plt.figure(figsize=(8, 4))\n",
    "#         print(\"🔍 Using Bar Chart for Category Distribution\")\n",
    "#         sns.countplot(y=column, palette=\"pastel\")\n",
    "\n",
    "#         plt.title(f\"Univariate Analysis of {column.name}\")\n",
    "#         plt.xlabel(\"Count\")\n",
    "#         plt.ylabel(column.name)\n",
    "#         plt.show()\n",
    "\n",
    "#     else:\n",
    "#         print(\"⚠️ Unsupported Data Type\")\n",
    "\n",
    "#     return True\n"
   ]
  },
  {
   "cell_type": "markdown",
   "id": "26469da0",
   "metadata": {
    "papermill": {
     "duration": 0.00395,
     "end_time": "2025-05-01T15:25:12.086241",
     "exception": false,
     "start_time": "2025-05-01T15:25:12.082291",
     "status": "completed"
    },
    "tags": []
   },
   "source": [
    "\n"
   ]
  },
  {
   "cell_type": "code",
   "execution_count": 4,
   "id": "583c30a8",
   "metadata": {
    "execution": {
     "iopub.execute_input": "2025-05-01T15:25:12.093208Z",
     "iopub.status.busy": "2025-05-01T15:25:12.092943Z",
     "iopub.status.idle": "2025-05-01T15:25:12.098673Z",
     "shell.execute_reply": "2025-05-01T15:25:12.098042Z"
    },
    "papermill": {
     "duration": 0.010754,
     "end_time": "2025-05-01T15:25:12.099964",
     "exception": false,
     "start_time": "2025-05-01T15:25:12.089210",
     "status": "completed"
    },
    "tags": []
   },
   "outputs": [],
   "source": [
    "def detect_outliers_iqr(dataFrame):\n",
    "    try:\n",
    "        numeric_cols = dataFrame.select_dtypes(include=['int64', 'float64']).columns.tolist()\n",
    "        for column in numeric_cols:\n",
    "            Q1 = dataFrame[column].quantile(0.25)\n",
    "            Q3 = dataFrame[column].quantile(0.75)\n",
    "            IQR = Q3 - Q1\n",
    "            lower_bound = max(Q1 - 1.5 * IQR, dataFrame[column].min())\n",
    "            upper_bound = min(Q3 + 1.5 * IQR, dataFrame[column].max())\n",
    "            dataFrame[column] = np.where(dataFrame[column] < lower_bound, lower_bound, dataFrame[column])\n",
    "            dataFrame[column] = np.where(dataFrame[column] > upper_bound, upper_bound, dataFrame[column])\n",
    "            # print(f\"Outliers handled in column: {column}\")\n",
    "        return dataFrame\n",
    "    except Exception as e:\n",
    "        print(f\"Failed to detect outliers in {column}: {e}\")\n",
    "        raise"
   ]
  },
  {
   "cell_type": "code",
   "execution_count": 5,
   "id": "acc1439e",
   "metadata": {
    "execution": {
     "iopub.execute_input": "2025-05-01T15:25:12.107084Z",
     "iopub.status.busy": "2025-05-01T15:25:12.106835Z",
     "iopub.status.idle": "2025-05-01T15:25:12.114890Z",
     "shell.execute_reply": "2025-05-01T15:25:12.114337Z"
    },
    "papermill": {
     "duration": 0.013077,
     "end_time": "2025-05-01T15:25:12.116081",
     "exception": false,
     "start_time": "2025-05-01T15:25:12.103004",
     "status": "completed"
    },
    "tags": []
   },
   "outputs": [],
   "source": [
    "def pre_eda_validation(dataFrame):\n",
    "    \n",
    "    # Basic stats\n",
    "    report_df = pd.DataFrame({\n",
    "        \"missing_values\": dataFrame.isnull().sum(),\n",
    "        \"duplicates\": [dataFrame.duplicated().sum()] * len(dataFrame.columns),\n",
    "        \"data_types\": dataFrame.dtypes.astype(str),\n",
    "        \"cardinality\": dataFrame.nunique(),\n",
    "        \"non_null_count\": dataFrame.notnull().sum()\n",
    "    }).reset_index().rename(columns={\"index\": \"columns\"})\n",
    "\n",
    "    # Extract .info() as summary\n",
    "    buffer = io.StringIO()\n",
    "    dataFrame.info(buf=buffer)\n",
    "    info_summary = buffer.getvalue()\n",
    "\n",
    "    # Add .shape\n",
    "    shape_summary = {\"rows\": dataFrame.shape[0], \"columns\": dataFrame.shape[1]}\n",
    "\n",
    "    # Safe describe summary\n",
    "    describe_df = dataFrame.describe(include='all').T\n",
    "    describe_df = describe_df.fillna(\"\").infer_objects(copy=False)\n",
    "    describe_summary = describe_df.to_dict(orient='index')\n",
    "\n",
    "    # Inconsistency checks\n",
    "    inconsistent_group1 = dataFrame[dataFrame.duplicated(subset=[\"channelId\"], keep=False)][\n",
    "        [\"channelId\", \"channelName\", \"channelCustomUrl\"]]\n",
    "\n",
    "    inconsistent_group2 = dataFrame[dataFrame.duplicated(subset=[\"videoId\"], keep=False)][\n",
    "        [\"videoId\", \"videoTitle\"]]\n",
    "\n",
    "    DataFrameHandelledOutliers = detect_outliers_iqr(dataFrame)\n",
    "\n",
    "    # Final report\n",
    "    report = {\n",
    "        \"Pre_EDA_Summary\": report_df.to_dict(orient=\"records\"),\n",
    "        \"DataFrame_Info\": info_summary,\n",
    "        \"DataFrame_Shape\": shape_summary,\n",
    "        \"Describe_Summary\": describe_summary,\n",
    "        \"inconsistent_records_channelLevel\": inconsistent_group1.to_dict(orient=\"records\"),\n",
    "        \"inconsistent_records_videolevel\": inconsistent_group2.to_dict(orient=\"records\"),\n",
    "        \"Dataframe\": DataFrameHandelledOutliers.to_dict(orient=\"records\")\n",
    "    }\n",
    "\n",
    "    record_count = len(DataFrameHandelledOutliers)\n",
    "    timestamp = datetime.now(ist).strftime(\"%Y-%m-%d_%H_%M_%S\")\n",
    "    filename = f\"PEDA_{timestamp}_{record_count}_records.json\"\n",
    "\n",
    "    if report[\"Pre_EDA_Summary\"]:\n",
    "        with open(filename, \"w\") as json_file:\n",
    "            json.dump(report, json_file, indent=4)\n",
    "        print(f\"DataFrame validation report saved as {filename}\")\n",
    "    else:\n",
    "        print(\"No data to save since empty DataFrame returned.\")\n",
    "\n",
    "    destination_path = '/kaggle/working/YouTube-Trends/ExploratoryDataAnalysis/PEDA/Daily'\n",
    "    PushToGithub(filename, destination_path)\n",
    "        \n",
    "    return True\n"
   ]
  },
  {
   "cell_type": "code",
   "execution_count": 6,
   "id": "d6411ac7",
   "metadata": {
    "execution": {
     "iopub.execute_input": "2025-05-01T15:25:12.123559Z",
     "iopub.status.busy": "2025-05-01T15:25:12.123036Z",
     "iopub.status.idle": "2025-05-01T15:25:12.127225Z",
     "shell.execute_reply": "2025-05-01T15:25:12.126460Z"
    },
    "papermill": {
     "duration": 0.009315,
     "end_time": "2025-05-01T15:25:12.128553",
     "exception": false,
     "start_time": "2025-05-01T15:25:12.119238",
     "status": "completed"
    },
    "tags": []
   },
   "outputs": [],
   "source": [
    "# def pre_eda_validation(dataFrame):\n",
    "\n",
    "#     report_df = pd.DataFrame({\n",
    "#         \"missing_values\": dataFrame.isnull().sum(),\n",
    "#         \"duplicates\": [dataFrame.duplicated().sum()] * len(dataFrame.columns),\n",
    "#         \"data_types\": dataFrame.dtypes.astype(str),\n",
    "#         \"cardinality\": dataFrame.nunique()\n",
    "#     }).reset_index().rename(columns={\"index\": \"columns\"})\n",
    "\n",
    "#     # Extract inconsistent records for group1\n",
    "#     inconsistent_group1 = dataFrame[dataFrame.duplicated(subset=[\"channelId\"], keep=False)][\n",
    "#         [\"channelId\", \"channelName\", \"channelCustomUrl\"]]\n",
    "\n",
    "#     # Extract inconsistent records for group2\n",
    "#     inconsistent_group2 = dataFrame[dataFrame.duplicated(subset=[\"videoId\"], keep=False)][\n",
    "#         [\"videoId\", \"videoTitle\"]]\n",
    "#     DataFrameHandelledOutliers = detect_outliers_iqr(dataFrame)\n",
    "#     report = {\n",
    "#         \"Pre_EDA\": report_df.to_dict(orient=\"records\"),\n",
    "#         \"inconsistent_records_channelLevel\": inconsistent_group1.to_dict(orient=\"records\"),\n",
    "#         \"inconsistent_records_videolevel\": inconsistent_group2.to_dict(orient=\"records\"),\n",
    "#         \"Dataframe\": DataFrameHandelledOutliers.to_dict(orient=\"records\")\n",
    "#     }\n",
    "#     record_count = len(DataFrameHandelledOutliers)\n",
    "#     timestamp = datetime.now(ist).strftime(\"%Y-%m-%d_%H_%M_%S\")\n",
    "#     filename = f\"PEDA_{timestamp}_{record_count}_records.json\"\n",
    "\n",
    "#     if report[\"Pre_EDA\"]:\n",
    "#         with open(filename, \"w\") as json_file:\n",
    "#             json.dump(report, json_file, indent=4)\n",
    "#         print(f\"DataFrame validation report saved as {filename}\")\n",
    "#     else:\n",
    "#         print(\"No data to save since empty DataFrame returned.\")\n",
    "\n",
    "#     destination_path = '/kaggle/working/DevOps-YouTube-Trends/ExploratoryDataAnalysis/PEDA/Daily'\n",
    "#     PushToGithub(filename, destination_path)\n",
    "        \n",
    "#     return True\n"
   ]
  },
  {
   "cell_type": "code",
   "execution_count": 7,
   "id": "c0e22752",
   "metadata": {
    "execution": {
     "iopub.execute_input": "2025-05-01T15:25:12.135919Z",
     "iopub.status.busy": "2025-05-01T15:25:12.135256Z",
     "iopub.status.idle": "2025-05-01T15:25:12.141600Z",
     "shell.execute_reply": "2025-05-01T15:25:12.140843Z"
    },
    "papermill": {
     "duration": 0.011194,
     "end_time": "2025-05-01T15:25:12.142781",
     "exception": false,
     "start_time": "2025-05-01T15:25:12.131587",
     "status": "completed"
    },
    "tags": []
   },
   "outputs": [],
   "source": [
    "def DataCleaning_File_Extraction(repo_url, kaggle_repo_url, DataCleaning_path):\n",
    "    if os.path.exists(kaggle_repo_url):\n",
    "        print(\"Repository already exists locally.\")\n",
    "        repo = Repo(kaggle_repo_url)  \n",
    "        repo.config_writer().set_value(\"user\", \"name\", name).release()\n",
    "        repo.config_writer().set_value(\"user\", \"email\", email).release()\n",
    "        origin = repo.remote(name='origin')  \n",
    "        origin.pull() \n",
    "        print(\"Successfully pulled the latest changes.\")\n",
    "    else:\n",
    "        repo = Repo.clone_from(repo_url, kaggle_repo_url)\n",
    "        repo.config_writer().set_value(\"user\", \"name\", name).release()\n",
    "        repo.config_writer().set_value(\"user\", \"email\", email).release()\n",
    "        print(\"Successfully cloned the repository.\")\n",
    "\n",
    "   \n",
    "    output_files = os.listdir(DataCleaning_path)\n",
    "    DataCleaning_File = max(\n",
    "        [file for file in output_files if file.startswith(\"DC_\") and file.endswith('records.json')]\n",
    "    )\n",
    "\n",
    "   \n",
    "    DataCleaning_File = pd.read_json(os.path.join(DataCleaning_path, DataCleaning_File))\n",
    "\n",
    "    return DataCleaning_File"
   ]
  },
  {
   "cell_type": "code",
   "execution_count": 8,
   "id": "938e886b",
   "metadata": {
    "execution": {
     "iopub.execute_input": "2025-05-01T15:25:12.149913Z",
     "iopub.status.busy": "2025-05-01T15:25:12.149679Z",
     "iopub.status.idle": "2025-05-01T15:25:12.157079Z",
     "shell.execute_reply": "2025-05-01T15:25:12.156488Z"
    },
    "papermill": {
     "duration": 0.012341,
     "end_time": "2025-05-01T15:25:12.158209",
     "exception": false,
     "start_time": "2025-05-01T15:25:12.145868",
     "status": "completed"
    },
    "tags": []
   },
   "outputs": [],
   "source": [
    "def PushToGithub(filename,destination_path):\n",
    "    try:\n",
    "        if os.path.exists(kaggle_repo_url):\n",
    "            print(\"Already cloned and the repo file exists\")\n",
    "            repo = Repo(kaggle_repo_url)\n",
    "            repo.config_writer().set_value(\"user\", \"name\", name).release()\n",
    "            repo.config_writer().set_value(\"user\", \"email\", email).release()\n",
    "            origin = repo.remote(name='origin')\n",
    "            origin.pull()\n",
    "            print(\"Successfully pulled the git repo before push\")\n",
    "        else:\n",
    "            repo = Repo.clone_from(repo_url, kaggle_repo_url)\n",
    "            repo.config_writer().set_value(\"user\", \"name\", name).release()\n",
    "            repo.config_writer().set_value(\"user\", \"email\", email).release()\n",
    "            print(\"Successfully cloned the git repo\")\n",
    "        \n",
    "        if os.path.exists(destination_path):\n",
    "            shutil.copyfile(f'/kaggle/working/{filename}', f'{destination_path}/{filename}')\n",
    "        else:\n",
    "            os.makedirs(destination_path)\n",
    "            shutil.copyfile(f'/kaggle/working/{filename}', f'{destination_path}/{filename}')\n",
    "        \n",
    "        repo = Repo(kaggle_repo_url)\n",
    "        repo.index.add([f\"{destination_path}/{filename}\"])\n",
    "        timestamp = datetime.now(ist).strftime(\"%Y-%m-%d_%H:%M:%S\")\n",
    "        repo.index.commit(f\"{timestamp} Added files from Kaggle notebook, {filename}\")\n",
    "        origin = repo.remote(name=\"origin\")\n",
    "        # push_result = origin.push()\n",
    "        push_result = origin.push(refspec=f\"HEAD:refs/heads/eda\")\n",
    "        \n",
    "        if push_result:\n",
    "            print(\"Output files successfully pushed to GitHub!\")\n",
    "        else:\n",
    "            print(\"Output files pushed to GitHub failed:(\")\n",
    "        return True\n",
    "    \n",
    "    except Exception as e:\n",
    "        print(f\"An error occurred at git automation code: {e}\")\n",
    "        return False"
   ]
  },
  {
   "cell_type": "code",
   "execution_count": 9,
   "id": "c0b1c290",
   "metadata": {
    "execution": {
     "iopub.execute_input": "2025-05-01T15:25:12.165418Z",
     "iopub.status.busy": "2025-05-01T15:25:12.164910Z",
     "iopub.status.idle": "2025-05-01T15:25:12.170764Z",
     "shell.execute_reply": "2025-05-01T15:25:12.170197Z"
    },
    "papermill": {
     "duration": 0.010675,
     "end_time": "2025-05-01T15:25:12.171968",
     "exception": false,
     "start_time": "2025-05-01T15:25:12.161293",
     "status": "completed"
    },
    "tags": []
   },
   "outputs": [],
   "source": [
    "def main(repo_url, kaggle_repo_url, DataCleaning_path, ExploratoryDataAnalysis_path):\n",
    "    DataCleaning_File = DataCleaning_File_Extraction(repo_url, kaggle_repo_url, DataCleaning_path)\n",
    "    DataCleaning_File['videoCategoryId'] = DataCleaning_File['videoCategoryId'].astype('category')\n",
    "    pre_eda_validation(DataCleaning_File)\n",
    "    univariateTargetColumns = ['']\n",
    "     \n",
    "    ChannelLevel_DataCleaning_File = DataCleaning_File.drop(['videoId', 'videoTitle', 'videoPublishYear',\n",
    "       'videoPublishMonth', 'videoPublishDay', 'videoPublishTime',\n",
    "       'videoPublishedOn', 'videoPublishedOnInSeconds', 'videoViewCount',\n",
    "       'videoLikeCount', 'videoCommentCount', 'videoCategoryId',\n",
    "       'videoDefaultAudioLanguage', 'videoDuration', 'videoDurationInSeconds',\n",
    "       'videoContentType', 'videoDimension', 'videoDefinition', 'videoCaption',\n",
    "       'videoLicensedContent', 'videoProjection'], axis=1)\n",
    "    ChannelLevel_DataCleaning_File = ChannelLevel_DataCleaning_File.drop_duplicates()\n",
    "    VideoLevel_DataCleaning_File = DataCleaning_File.drop( ['channelId', 'channelName','channelCustomUrl',\n",
    "       'channelPublishYear', 'channelPublishMonth', 'channelPublishDay',\n",
    "       'channelPublishTime', 'channelPublishedOn',\n",
    "       'channelPublishedOnInSeconds', 'channelCountry', 'channelViewCount',\n",
    "       'channelSubscriberCount', 'channelVideoCount'], axis=1)\n",
    "    columns = ChannelLevel_DataCleaning_File.columns\n",
    "    print(columns)\n",
    "    for col in columns:\n",
    "        univariate(ChannelLevel_DataCleaning_File[col])\n",
    "\n",
    "    columns = VideoLevel_DataCleaning_File.columns\n",
    "    print(columns)\n",
    "    for col in columns:\n",
    "        univariate(VideoLevel_DataCleaning_File[col])\n",
    "    return True"
   ]
  },
  {
   "cell_type": "code",
   "execution_count": 10,
   "id": "f32ce7e8",
   "metadata": {
    "execution": {
     "iopub.execute_input": "2025-05-01T15:25:12.178872Z",
     "iopub.status.busy": "2025-05-01T15:25:12.178648Z",
     "iopub.status.idle": "2025-05-01T15:25:45.411242Z",
     "shell.execute_reply": "2025-05-01T15:25:45.410394Z"
    },
    "papermill": {
     "duration": 33.237904,
     "end_time": "2025-05-01T15:25:45.412977",
     "exception": false,
     "start_time": "2025-05-01T15:25:12.175073",
     "status": "completed"
    },
    "tags": []
   },
   "outputs": [
    {
     "name": "stdout",
     "output_type": "stream",
     "text": [
      "Successfully cloned the repository.\n",
      "DataFrame validation report saved as PEDA_2025-05-01_20_55_18_309_records.json\n",
      "Already cloned and the repo file exists\n",
      "Successfully pulled the git repo before push\n",
      "Output files successfully pushed to GitHub!\n",
      "Index(['channelId', 'channelName', 'channelCustomUrl', 'channelPublishYear',\n",
      "       'channelPublishMonth', 'channelPublishDay', 'channelPublishTime',\n",
      "       'channelPublishedOn', 'channelPublishedOnInSeconds', 'channelCountry',\n",
      "       'channelViewCount', 'channelSubscriberCount', 'channelVideoCount'],\n",
      "      dtype='object')\n",
      "⚠️ Skipping `channelId`: High cardinality (185 unique out of 185)\n",
      "⚠️ Skipped for visualization due to high cardinality.\n",
      "\n",
      "⚠️ Skipping `channelName`: High cardinality (185 unique out of 185)\n",
      "⚠️ Skipped for visualization due to high cardinality.\n",
      "\n",
      "⚠️ Skipping `channelCustomUrl`: High cardinality (185 unique out of 185)\n",
      "⚠️ Skipped for visualization due to high cardinality.\n",
      "\n",
      "📊 **Key Statistical Measures for channelPublishYear**:\n",
      "\n",
      " count        mean      std    min    25%    50%    75%    max\n",
      " 185.0 2015.848649 4.875494 2006.0 2012.0 2016.0 2020.0 2025.0 \n",
      "\n",
      "🔍 Using Bar Chart for Discrete Numeric Data: channelPublishYear\n"
     ]
    },
    {
     "data": {
      "text/html": [
       "<iframe\n",
       "    scrolling=\"no\"\n",
       "    width=\"100%\"\n",
       "    height=\"545px\"\n",
       "    src=\"iframe_figures/figure_10.html\"\n",
       "    frameborder=\"0\"\n",
       "    allowfullscreen\n",
       "></iframe>\n"
      ]
     },
     "metadata": {},
     "output_type": "display_data"
    },
    {
     "name": "stdout",
     "output_type": "stream",
     "text": [
      "📊 **Key Statistical Measures for channelPublishMonth**:\n",
      "\n",
      " count     mean      std  min  25%  50%  75%  max\n",
      " 185.0 6.497297 3.495532  1.0  4.0  7.0 10.0 12.0 \n",
      "\n",
      "🔍 Using Bar Chart for Discrete Numeric Data: channelPublishMonth\n"
     ]
    },
    {
     "data": {
      "text/html": [
       "<iframe\n",
       "    scrolling=\"no\"\n",
       "    width=\"100%\"\n",
       "    height=\"545px\"\n",
       "    src=\"iframe_figures/figure_10.html\"\n",
       "    frameborder=\"0\"\n",
       "    allowfullscreen\n",
       "></iframe>\n"
      ]
     },
     "metadata": {},
     "output_type": "display_data"
    },
    {
     "name": "stdout",
     "output_type": "stream",
     "text": [
      "📊 **Key Statistical Measures for channelPublishDay**:\n",
      "\n",
      " count      mean      std  min  25%  50%  75%  max\n",
      " 185.0 16.308108 8.728837  1.0  9.0 16.0 24.0 31.0 \n",
      "\n",
      "🔍 Using Bar Chart for Discrete Numeric Data: channelPublishDay\n"
     ]
    },
    {
     "data": {
      "text/html": [
       "<iframe\n",
       "    scrolling=\"no\"\n",
       "    width=\"100%\"\n",
       "    height=\"545px\"\n",
       "    src=\"iframe_figures/figure_10.html\"\n",
       "    frameborder=\"0\"\n",
       "    allowfullscreen\n",
       "></iframe>\n"
      ]
     },
     "metadata": {},
     "output_type": "display_data"
    },
    {
     "name": "stdout",
     "output_type": "stream",
     "text": [
      "⚠️ Skipping `channelPublishTime`: High cardinality (185 unique out of 185)\n",
      "⚠️ Skipped for visualization due to high cardinality.\n",
      "\n",
      "⚠️ Skipping `channelPublishedOn`: High cardinality (185 unique out of 185)\n",
      "⚠️ Skipped for visualization due to high cardinality.\n",
      "\n",
      "📊 **Key Statistical Measures for channelPublishedOnInSeconds**:\n",
      "\n",
      " count         mean          std          min          25%          50%          75%          max\n",
      " 185.0 1.462636e+09 1.539761e+08 1138069141.0 1355280989.0 1451740727.0 1596272639.0 1740278826.0 \n",
      "\n",
      "🔍 Using KDE-like Histogram for Continuous Data: channelPublishedOnInSeconds\n"
     ]
    },
    {
     "data": {
      "text/html": [
       "<iframe\n",
       "    scrolling=\"no\"\n",
       "    width=\"100%\"\n",
       "    height=\"545px\"\n",
       "    src=\"iframe_figures/figure_10.html\"\n",
       "    frameborder=\"0\"\n",
       "    allowfullscreen\n",
       "></iframe>\n"
      ]
     },
     "metadata": {},
     "output_type": "display_data"
    },
    {
     "name": "stdout",
     "output_type": "stream",
     "text": [
      "📊 **Category Frequency Counts for channelCountry**:\n",
      "\n",
      "Category  Percentage\n",
      "      US       34.05\n",
      "      IN       22.70\n",
      " Unknown       12.97\n",
      "      GB        4.86\n",
      "      CA        4.32\n",
      "      AU        2.70\n",
      "      DE        2.16\n",
      "      NL        2.16\n",
      "      PK        1.62\n",
      "      CH        1.08\n",
      "      IE        1.08\n",
      "      AE        0.54\n",
      "      JP        0.54\n",
      "      SG        0.54\n",
      "      SK        0.54\n",
      "      RS        0.54\n",
      "      ES        0.54\n",
      "      UA        0.54\n",
      "      HU        0.54\n",
      "      FI        0.54\n",
      "      ID        0.54\n",
      "      BR        0.54\n",
      "      CZ        0.54\n",
      "      PH        0.54\n",
      "      PL        0.54\n",
      "      SA        0.54\n",
      "      BE        0.54\n",
      "      ZA        0.54\n",
      "      AT        0.54\n",
      "      SE        0.54 \n",
      "\n",
      "🔍 Using Bar Chart for channelCountry (too many categories for pie chart)\n"
     ]
    },
    {
     "data": {
      "text/html": [
       "<iframe\n",
       "    scrolling=\"no\"\n",
       "    width=\"100%\"\n",
       "    height=\"545px\"\n",
       "    src=\"iframe_figures/figure_10.html\"\n",
       "    frameborder=\"0\"\n",
       "    allowfullscreen\n",
       "></iframe>\n"
      ]
     },
     "metadata": {},
     "output_type": "display_data"
    },
    {
     "name": "stdout",
     "output_type": "stream",
     "text": [
      "📊 **Key Statistical Measures for channelViewCount**:\n",
      "\n",
      " count         mean          std   min     25%      50%       75%        max\n",
      " 185.0 7.533246e+06 1.322276e+07 136.0 75383.0 515731.0 7674163.0 42380397.5 \n",
      "\n",
      "🔍 Using KDE-like Histogram for Continuous Data: channelViewCount\n"
     ]
    },
    {
     "data": {
      "text/html": [
       "<iframe\n",
       "    scrolling=\"no\"\n",
       "    width=\"100%\"\n",
       "    height=\"545px\"\n",
       "    src=\"iframe_figures/figure_10.html\"\n",
       "    frameborder=\"0\"\n",
       "    allowfullscreen\n",
       "></iframe>\n"
      ]
     },
     "metadata": {},
     "output_type": "display_data"
    },
    {
     "name": "stdout",
     "output_type": "stream",
     "text": [
      "📊 **Key Statistical Measures for channelSubscriberCount**:\n",
      "\n",
      " count         mean           std  min   25%    50%     75%      max\n",
      " 185.0 68910.762162 120129.325945  3.0 882.0 5710.0 73500.0 362270.0 \n",
      "\n",
      "🔍 Using KDE-like Histogram for Continuous Data: channelSubscriberCount\n"
     ]
    },
    {
     "data": {
      "text/html": [
       "<iframe\n",
       "    scrolling=\"no\"\n",
       "    width=\"100%\"\n",
       "    height=\"545px\"\n",
       "    src=\"iframe_figures/figure_10.html\"\n",
       "    frameborder=\"0\"\n",
       "    allowfullscreen\n",
       "></iframe>\n"
      ]
     },
     "metadata": {},
     "output_type": "display_data"
    },
    {
     "name": "stdout",
     "output_type": "stream",
     "text": [
      "📊 **Key Statistical Measures for channelVideoCount**:\n",
      "\n",
      " count       mean       std  min  25%   50%   75%    max\n",
      " 185.0 479.481081 628.49409  1.0 58.0 194.0 591.0 2207.5 \n",
      "\n",
      "🔍 Using KDE-like Histogram for Continuous Data: channelVideoCount\n"
     ]
    },
    {
     "data": {
      "text/html": [
       "<iframe\n",
       "    scrolling=\"no\"\n",
       "    width=\"100%\"\n",
       "    height=\"545px\"\n",
       "    src=\"iframe_figures/figure_10.html\"\n",
       "    frameborder=\"0\"\n",
       "    allowfullscreen\n",
       "></iframe>\n"
      ]
     },
     "metadata": {},
     "output_type": "display_data"
    },
    {
     "name": "stdout",
     "output_type": "stream",
     "text": [
      "Index(['videoId', 'videoTitle', 'videoPublishYear', 'videoPublishMonth',\n",
      "       'videoPublishDay', 'videoPublishTime', 'videoPublishedOn',\n",
      "       'videoPublishedOnInSeconds', 'videoViewCount', 'videoLikeCount',\n",
      "       'videoCommentCount', 'videoCategoryId', 'videoDefaultAudioLanguage',\n",
      "       'videoDuration', 'videoDurationInSeconds', 'videoContentType',\n",
      "       'videoDimension', 'videoDefinition', 'videoCaption',\n",
      "       'videoLicensedContent', 'videoProjection'],\n",
      "      dtype='object')\n",
      "⚠️ Skipping `videoId`: High cardinality (309 unique out of 309)\n",
      "⚠️ Skipped for visualization due to high cardinality.\n",
      "\n",
      "⚠️ Skipping `videoTitle`: High cardinality (308 unique out of 309)\n",
      "⚠️ Skipped for visualization due to high cardinality.\n",
      "\n",
      "📊 **Key Statistical Measures for videoPublishYear**:\n",
      "\n",
      " count        mean      std    min    25%    50%    75%    max\n",
      " 309.0 2022.576052 1.748341 2019.0 2022.0 2023.0 2024.0 2025.0 \n",
      "\n",
      "🔍 Using Bar Chart for Discrete Numeric Data: videoPublishYear\n"
     ]
    },
    {
     "data": {
      "text/html": [
       "<iframe\n",
       "    scrolling=\"no\"\n",
       "    width=\"100%\"\n",
       "    height=\"545px\"\n",
       "    src=\"iframe_figures/figure_10.html\"\n",
       "    frameborder=\"0\"\n",
       "    allowfullscreen\n",
       "></iframe>\n"
      ]
     },
     "metadata": {},
     "output_type": "display_data"
    },
    {
     "name": "stdout",
     "output_type": "stream",
     "text": [
      "📊 **Key Statistical Measures for videoPublishMonth**:\n",
      "\n",
      " count    mean      std  min  25%  50%  75%  max\n",
      " 309.0 6.31068 3.400809  1.0  3.0  6.0  9.0 12.0 \n",
      "\n",
      "🔍 Using Bar Chart for Discrete Numeric Data: videoPublishMonth\n"
     ]
    },
    {
     "data": {
      "text/html": [
       "<iframe\n",
       "    scrolling=\"no\"\n",
       "    width=\"100%\"\n",
       "    height=\"545px\"\n",
       "    src=\"iframe_figures/figure_10.html\"\n",
       "    frameborder=\"0\"\n",
       "    allowfullscreen\n",
       "></iframe>\n"
      ]
     },
     "metadata": {},
     "output_type": "display_data"
    },
    {
     "name": "stdout",
     "output_type": "stream",
     "text": [
      "📊 **Key Statistical Measures for videoPublishDay**:\n",
      "\n",
      " count      mean     std  min  25%  50%  75%  max\n",
      " 309.0 16.378641 8.63899  1.0 10.0 17.0 24.0 31.0 \n",
      "\n",
      "🔍 Using Bar Chart for Discrete Numeric Data: videoPublishDay\n"
     ]
    },
    {
     "data": {
      "text/html": [
       "<iframe\n",
       "    scrolling=\"no\"\n",
       "    width=\"100%\"\n",
       "    height=\"545px\"\n",
       "    src=\"iframe_figures/figure_10.html\"\n",
       "    frameborder=\"0\"\n",
       "    allowfullscreen\n",
       "></iframe>\n"
      ]
     },
     "metadata": {},
     "output_type": "display_data"
    },
    {
     "name": "stdout",
     "output_type": "stream",
     "text": [
      "⚠️ Skipping `videoPublishTime`: High cardinality (304 unique out of 309)\n",
      "⚠️ Skipped for visualization due to high cardinality.\n",
      "\n",
      "⚠️ Skipping `videoPublishedOn`: High cardinality (308 unique out of 309)\n",
      "⚠️ Skipped for visualization due to high cardinality.\n",
      "\n",
      "📊 **Key Statistical Measures for videoPublishedOnInSeconds**:\n",
      "\n",
      " count         mean          std          min          25%          50%          75%          max\n",
      " 309.0 1.673448e+09 5.647030e+07 1533640534.5 1644332418.0 1686918937.0 1718127007.0 1745963478.0 \n",
      "\n",
      "🔍 Using KDE-like Histogram for Continuous Data: videoPublishedOnInSeconds\n"
     ]
    },
    {
     "data": {
      "text/html": [
       "<iframe\n",
       "    scrolling=\"no\"\n",
       "    width=\"100%\"\n",
       "    height=\"545px\"\n",
       "    src=\"iframe_figures/figure_10.html\"\n",
       "    frameborder=\"0\"\n",
       "    allowfullscreen\n",
       "></iframe>\n"
      ]
     },
     "metadata": {},
     "output_type": "display_data"
    },
    {
     "name": "stdout",
     "output_type": "stream",
     "text": [
      "📊 **Key Statistical Measures for videoViewCount**:\n",
      "\n",
      " count         mean          std  min   25%    50%     75%     max\n",
      " 309.0 14276.223301 19350.270133  0.0 580.0 4098.0 22025.0 54192.5 \n",
      "\n",
      "🔍 Using KDE-like Histogram for Continuous Data: videoViewCount\n"
     ]
    },
    {
     "data": {
      "text/html": [
       "<iframe\n",
       "    scrolling=\"no\"\n",
       "    width=\"100%\"\n",
       "    height=\"545px\"\n",
       "    src=\"iframe_figures/figure_10.html\"\n",
       "    frameborder=\"0\"\n",
       "    allowfullscreen\n",
       "></iframe>\n"
      ]
     },
     "metadata": {},
     "output_type": "display_data"
    },
    {
     "name": "stdout",
     "output_type": "stream",
     "text": [
      "📊 **Key Statistical Measures for videoLikeCount**:\n",
      "\n",
      " count       mean        std  min  25%  50%   75%   max\n",
      " 309.0 222.433657 301.546519  0.0  9.0 56.0 338.0 831.5 \n",
      "\n",
      "🔍 Using KDE-like Histogram for Continuous Data: videoLikeCount\n"
     ]
    },
    {
     "data": {
      "text/html": [
       "<iframe\n",
       "    scrolling=\"no\"\n",
       "    width=\"100%\"\n",
       "    height=\"545px\"\n",
       "    src=\"iframe_figures/figure_10.html\"\n",
       "    frameborder=\"0\"\n",
       "    allowfullscreen\n",
       "></iframe>\n"
      ]
     },
     "metadata": {},
     "output_type": "display_data"
    },
    {
     "name": "stdout",
     "output_type": "stream",
     "text": [
      "📊 **Key Statistical Measures for videoCommentCount**:\n",
      "\n",
      " count      mean       std  min  25%  50%  75%  max\n",
      " 309.0 13.423948 18.292844  0.0  0.0  3.0 20.0 50.0 \n",
      "\n",
      "🔍 Using Histogram for Discrete Numeric Data: videoCommentCount\n"
     ]
    },
    {
     "data": {
      "text/html": [
       "<iframe\n",
       "    scrolling=\"no\"\n",
       "    width=\"100%\"\n",
       "    height=\"545px\"\n",
       "    src=\"iframe_figures/figure_10.html\"\n",
       "    frameborder=\"0\"\n",
       "    allowfullscreen\n",
       "></iframe>\n"
      ]
     },
     "metadata": {},
     "output_type": "display_data"
    },
    {
     "name": "stdout",
     "output_type": "stream",
     "text": [
      "📊 **Category Frequency Counts for videoCategoryId**:\n",
      "\n",
      "Category  Percentage\n",
      "      28       56.63\n",
      "      27       30.74\n",
      "      22        9.39\n",
      "      29        1.29\n",
      "      24        0.97\n",
      "      26        0.97 \n",
      "\n",
      "🔍 Using Pie Chart for videoCategoryId (categories: 6)\n"
     ]
    },
    {
     "data": {
      "text/html": [
       "<iframe\n",
       "    scrolling=\"no\"\n",
       "    width=\"100%\"\n",
       "    height=\"545px\"\n",
       "    src=\"iframe_figures/figure_10.html\"\n",
       "    frameborder=\"0\"\n",
       "    allowfullscreen\n",
       "></iframe>\n"
      ]
     },
     "metadata": {},
     "output_type": "display_data"
    },
    {
     "name": "stdout",
     "output_type": "stream",
     "text": [
      "📊 **Category Frequency Counts for videoDefaultAudioLanguage**:\n",
      "\n",
      "Category  Percentage\n",
      "      en       68.93\n",
      "   en-US       19.09\n",
      "   en-GB        7.12\n",
      "   en-IN        4.21\n",
      "   en-CA        0.32\n",
      "   en-AU        0.32 \n",
      "\n",
      "🔍 Using Pie Chart for videoDefaultAudioLanguage (categories: 6)\n"
     ]
    },
    {
     "data": {
      "text/html": [
       "<iframe\n",
       "    scrolling=\"no\"\n",
       "    width=\"100%\"\n",
       "    height=\"545px\"\n",
       "    src=\"iframe_figures/figure_10.html\"\n",
       "    frameborder=\"0\"\n",
       "    allowfullscreen\n",
       "></iframe>\n"
      ]
     },
     "metadata": {},
     "output_type": "display_data"
    },
    {
     "name": "stdout",
     "output_type": "stream",
     "text": [
      "⚠️ Skipping `videoDuration`: High cardinality (273 unique out of 309)\n",
      "⚠️ Skipped for visualization due to high cardinality.\n",
      "\n",
      "📊 **Key Statistical Measures for videoDurationInSeconds**:\n",
      "\n",
      " count        mean        std  min   25%   50%    75%    max\n",
      " 309.0 1000.242718 994.043119 14.0 242.0 609.0 1381.0 3089.5 \n",
      "\n",
      "🔍 Using KDE-like Histogram for Continuous Data: videoDurationInSeconds\n"
     ]
    },
    {
     "data": {
      "text/html": [
       "<iframe\n",
       "    scrolling=\"no\"\n",
       "    width=\"100%\"\n",
       "    height=\"545px\"\n",
       "    src=\"iframe_figures/figure_10.html\"\n",
       "    frameborder=\"0\"\n",
       "    allowfullscreen\n",
       "></iframe>\n"
      ]
     },
     "metadata": {},
     "output_type": "display_data"
    },
    {
     "name": "stdout",
     "output_type": "stream",
     "text": [
      "📊 **Category Frequency Counts for videoContentType**:\n",
      "\n",
      "Category  Percentage\n",
      "   Video       90.29\n",
      "   Short        9.71 \n",
      "\n",
      "🔍 Using Pie Chart for videoContentType (categories: 2)\n"
     ]
    },
    {
     "data": {
      "text/html": [
       "<iframe\n",
       "    scrolling=\"no\"\n",
       "    width=\"100%\"\n",
       "    height=\"545px\"\n",
       "    src=\"iframe_figures/figure_10.html\"\n",
       "    frameborder=\"0\"\n",
       "    allowfullscreen\n",
       "></iframe>\n"
      ]
     },
     "metadata": {},
     "output_type": "display_data"
    },
    {
     "name": "stdout",
     "output_type": "stream",
     "text": [
      "📊 **Category Frequency Counts for videoDimension**:\n",
      "\n",
      "Category  Percentage\n",
      "      2d       100.0 \n",
      "\n",
      "🔍 Using Pie Chart for videoDimension (categories: 1)\n"
     ]
    },
    {
     "data": {
      "text/html": [
       "<iframe\n",
       "    scrolling=\"no\"\n",
       "    width=\"100%\"\n",
       "    height=\"545px\"\n",
       "    src=\"iframe_figures/figure_10.html\"\n",
       "    frameborder=\"0\"\n",
       "    allowfullscreen\n",
       "></iframe>\n"
      ]
     },
     "metadata": {},
     "output_type": "display_data"
    },
    {
     "name": "stdout",
     "output_type": "stream",
     "text": [
      "📊 **Category Frequency Counts for videoDefinition**:\n",
      "\n",
      "Category  Percentage\n",
      "      hd       99.35\n",
      "      sd        0.65 \n",
      "\n",
      "🔍 Using Pie Chart for videoDefinition (categories: 2)\n"
     ]
    },
    {
     "data": {
      "text/html": [
       "<iframe\n",
       "    scrolling=\"no\"\n",
       "    width=\"100%\"\n",
       "    height=\"545px\"\n",
       "    src=\"iframe_figures/figure_10.html\"\n",
       "    frameborder=\"0\"\n",
       "    allowfullscreen\n",
       "></iframe>\n"
      ]
     },
     "metadata": {},
     "output_type": "display_data"
    },
    {
     "name": "stdout",
     "output_type": "stream",
     "text": [
      "📊 **Category Frequency Counts for videoCaption**:\n",
      "\n",
      "Category  Percentage\n",
      "    true       100.0 \n",
      "\n",
      "🔍 Using Pie Chart for videoCaption (categories: 1)\n"
     ]
    },
    {
     "data": {
      "text/html": [
       "<iframe\n",
       "    scrolling=\"no\"\n",
       "    width=\"100%\"\n",
       "    height=\"545px\"\n",
       "    src=\"iframe_figures/figure_10.html\"\n",
       "    frameborder=\"0\"\n",
       "    allowfullscreen\n",
       "></iframe>\n"
      ]
     },
     "metadata": {},
     "output_type": "display_data"
    },
    {
     "name": "stdout",
     "output_type": "stream",
     "text": [
      "📊 **Key Statistical Measures for videoLicensedContent**:\n",
      "\n",
      "count unique   top freq\n",
      "  309      2 False  202 \n",
      "\n",
      "🔍 Using Bar Chart for Discrete Numeric Data: videoLicensedContent\n"
     ]
    },
    {
     "data": {
      "text/html": [
       "<iframe\n",
       "    scrolling=\"no\"\n",
       "    width=\"100%\"\n",
       "    height=\"545px\"\n",
       "    src=\"iframe_figures/figure_10.html\"\n",
       "    frameborder=\"0\"\n",
       "    allowfullscreen\n",
       "></iframe>\n"
      ]
     },
     "metadata": {},
     "output_type": "display_data"
    },
    {
     "name": "stdout",
     "output_type": "stream",
     "text": [
      "📊 **Category Frequency Counts for videoProjection**:\n",
      "\n",
      "   Category  Percentage\n",
      "rectangular       100.0 \n",
      "\n",
      "🔍 Using Pie Chart for videoProjection (categories: 1)\n"
     ]
    },
    {
     "data": {
      "text/html": [
       "<iframe\n",
       "    scrolling=\"no\"\n",
       "    width=\"100%\"\n",
       "    height=\"545px\"\n",
       "    src=\"iframe_figures/figure_10.html\"\n",
       "    frameborder=\"0\"\n",
       "    allowfullscreen\n",
       "></iframe>\n"
      ]
     },
     "metadata": {},
     "output_type": "display_data"
    }
   ],
   "source": [
    "if __name__ == \"__main__\":    \n",
    "    user_secrets = UserSecretsClient()\n",
    "    secret_value_0 = user_secrets.get_secret(\"EDARepoOwner\")\n",
    "    secret_value_1 = user_secrets.get_secret(\"EDARepoOwnerMail\")\n",
    "    secret_value_2 = user_secrets.get_secret(\"EDARepoURL\")\n",
    "    \n",
    "    name = secret_value_0\n",
    "    email = secret_value_1\n",
    "    repo_url = secret_value_2\n",
    "    \n",
    "    kaggle_repo_url = '/kaggle/working/YouTube-Trends'\n",
    "    DataCleaning_path = '/kaggle/working/YouTube-Trends/DataCleaning/Daily'\n",
    "    ExploratoryDataAnalysis_path = '/kaggle/working/YouTube-Trends/ExploratoryDataAnalysis'\n",
    "\n",
    "    ist = timezone(\"Asia/Kolkata\")\n",
    "    \n",
    "    main(repo_url, kaggle_repo_url, DataCleaning_path, ExploratoryDataAnalysis_path)"
   ]
  },
  {
   "cell_type": "code",
   "execution_count": null,
   "id": "154cbd81",
   "metadata": {
    "papermill": {
     "duration": 0.006036,
     "end_time": "2025-05-01T15:25:45.425668",
     "exception": false,
     "start_time": "2025-05-01T15:25:45.419632",
     "status": "completed"
    },
    "tags": []
   },
   "outputs": [],
   "source": []
  }
 ],
 "metadata": {
  "kaggle": {
   "accelerator": "none",
   "dataSources": [],
   "isGpuEnabled": false,
   "isInternetEnabled": true,
   "language": "python",
   "sourceType": "notebook"
  },
  "kernelspec": {
   "display_name": "Python 3",
   "language": "python",
   "name": "python3"
  },
  "language_info": {
   "codemirror_mode": {
    "name": "ipython",
    "version": 3
   },
   "file_extension": ".py",
   "mimetype": "text/x-python",
   "name": "python",
   "nbconvert_exporter": "python",
   "pygments_lexer": "ipython3",
   "version": "3.11.11"
  },
  "papermill": {
   "default_parameters": {},
   "duration": 41.192683,
   "end_time": "2025-05-01T15:25:45.950197",
   "environment_variables": {},
   "exception": null,
   "input_path": "__notebook__.ipynb",
   "output_path": "__notebook__.ipynb",
   "parameters": {},
   "start_time": "2025-05-01T15:25:04.757514",
   "version": "2.6.0"
  }
 },
 "nbformat": 4,
 "nbformat_minor": 5
}
