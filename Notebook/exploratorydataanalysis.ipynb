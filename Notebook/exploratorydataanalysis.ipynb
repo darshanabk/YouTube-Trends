{
 "cells": [
  {
   "cell_type": "code",
   "execution_count": 1,
   "id": "bbd5756f",
   "metadata": {
    "execution": {
     "iopub.execute_input": "2025-03-24T12:15:41.587360Z",
     "iopub.status.busy": "2025-03-24T12:15:41.587013Z",
     "iopub.status.idle": "2025-03-24T12:15:44.667659Z",
     "shell.execute_reply": "2025-03-24T12:15:44.666421Z"
    },
    "papermill": {
     "duration": 3.087932,
     "end_time": "2025-03-24T12:15:44.669887",
     "exception": false,
     "start_time": "2025-03-24T12:15:41.581955",
     "status": "completed"
    },
    "tags": []
   },
   "outputs": [],
   "source": [
    "import os\n",
    "import shutil\n",
    "from git import Repo\n",
    "import pandas as pd\n",
    "import numpy as np\n",
    "from datetime import datetime\n",
    "from pytz import timezone\n",
    "import json\n",
    "import seaborn as sns\n",
    "import matplotlib.pyplot as plt\n",
    "from kaggle_secrets import UserSecretsClient"
   ]
  },
  {
   "cell_type": "markdown",
   "id": "f60e725f",
   "metadata": {
    "papermill": {
     "duration": 0.003033,
     "end_time": "2025-03-24T12:15:44.676785",
     "exception": false,
     "start_time": "2025-03-24T12:15:44.673752",
     "status": "completed"
    },
    "tags": []
   },
   "source": [
    "# **📊 Choosing the Right Univariate Analysis Plot**  \n",
    "\n",
    "## **🔍 Step 1: Key Statistical Measures (Default)**\n",
    "Before visualizing, analyze the core statistics to understand the data distribution.  \n",
    "\n",
    "| **Measure** | **Description** | **Why It Matters?** |\n",
    "|------------|---------------|--------------------|\n",
    "| **Count** | Number of non-null values | Checks data completeness |\n",
    "| **Mean** | Average of values | Measures central tendency |\n",
    "| **Median** | Middle value (50th percentile) | Less affected by outliers |\n",
    "| **Mode** | Most frequent value | Useful for categorical or discrete data |\n",
    "| **Min** | Smallest value | Defines range |\n",
    "| **Max** | Largest value | Defines range |\n",
    "| **Standard Deviation (std)** | Spread of data | Higher std = more variation |\n",
    "| **Variance** | Squared standard deviation | Measures dispersion |\n",
    "| **25th Percentile (Q1)** | Lower quartile | 25% of data falls below this |\n",
    "| **75th Percentile (Q3)** | Upper quartile | 75% of data falls below this |\n",
    "| **Interquartile Range (IQR)** | Q3 - Q1 | Helps detect outliers |\n",
    "| **Skewness** | Asymmetry of data distribution | 0 = symmetric, >0 = right-skewed, <0 = left-skewed |\n",
    "| **Kurtosis** | Measures tail weight | High = heavy tails, low = light tails |\n",
    "\n",
    "---\n",
    "\n",
    "## **📊 Step 2: Automated Graph Selection for Numerical Data**\n",
    "\n",
    "### **1️⃣ Histogram (For Discrete Data)**\n",
    "- **When to use?**  \n",
    "  * To check **buckets (bins) and counts** in numeric data.  \n",
    "  * Ideal for **discrete or grouped numerical data** (e.g., age groups, salaries).\n",
    "  * Helps in detecting **skewness** and approximate **distribution**.  \n",
    "\n",
    "- **Best Approach:**  \n",
    "  - Use **Histogram + Key Statistics** if the data has **discrete values** (e.g., `10, 20, 30` bins).  \n",
    "  - Example: Salary ranges, test scores, age groups.  \n",
    "\n",
    "---\n",
    "\n",
    "### **2️⃣ Kernel Density Estimation (KDE) Plot (For Continuous Data)**\n",
    "- **When to use?**  \n",
    "  * For **continuous numerical data** to visualize the **smooth density curve**.\n",
    "  * Ideal for datasets with **many unique values** (e.g., height, weight, income).  \n",
    "  * Useful when **understanding distribution trends** is more important than individual counts.  \n",
    "\n",
    "- **Best Approach:**  \n",
    "  - Use **KDE + Key Statistics** for **highly continuous** data.  \n",
    "  - Example: Temperature, stock prices, blood pressure levels.  \n",
    "\n",
    "---\n",
    "\n",
    "### **📌 Step 3: BoxPlot?**\n",
    "- ❌ **Not needed if outliers are already cleaned.**  \n",
    "- ✅ **Use BoxPlot only when checking for remaining outliers.**  \n",
    "- It helps **visualize skewness, quartiles, and anomalies.**\n",
    "\n",
    "---\n",
    "\n",
    "## **Summary Table for Numerical Data**  \n",
    "\n",
    "| Data Type       | Recommended Plots |\n",
    "|----------------|-----------------|\n",
    "| Discrete Data (10, 20, 30, etc.) | **Histogram + Key Statistics** |\n",
    "| Continuous Data (e.g., 0.1, 0.2, 0.3, etc.) | **KDE + Key Statistics** |\n",
    "| Outlier Detection (if needed) | **BoxPlot** |\n",
    "\n",
    "---\n",
    "\n",
    "### **🚀 Final Approach:**\n",
    "1️⃣ **Start with Key Statistical Measures.**  \n",
    "2️⃣ **Use Histogram (Discrete) or KDE (Continuous).**  \n",
    "3️⃣ **BoxPlot is optional (only if outliers exist).**  \n",
    "\n"
   ]
  },
  {
   "cell_type": "markdown",
   "id": "f5e6d3df",
   "metadata": {
    "papermill": {
     "duration": 0.002867,
     "end_time": "2025-03-24T12:15:44.682827",
     "exception": false,
     "start_time": "2025-03-24T12:15:44.679960",
     "status": "completed"
    },
    "tags": []
   },
   "source": [
    "## **Automated Graph Selection for Categorical Data**\n",
    "\n",
    "| **Condition** | **Best Visualization** | **Reason** |\n",
    "|--------------|-----------------|----------|\n",
    "| **Unique categories > 10** | **Bar Chart** | Too many categories make Pie Charts cluttered. Bar charts handle large categories better. |\n",
    "| **Unique categories ≤ 10** | **Pie Chart** | Pie charts are useful when comparing a few categories. |\n",
    "| **Unique categories ≤ 5** | **Pie Chart (default)** | Clear and easy to interpret. |\n",
    "| **For quick insights** | **Count Plot** | Seaborn’s `countplot()` provides a cleaner bar chart. |\n"
   ]
  },
  {
   "cell_type": "code",
   "execution_count": 2,
   "id": "43b8ef42",
   "metadata": {
    "execution": {
     "iopub.execute_input": "2025-03-24T12:15:44.690547Z",
     "iopub.status.busy": "2025-03-24T12:15:44.690061Z",
     "iopub.status.idle": "2025-03-24T12:15:44.699782Z",
     "shell.execute_reply": "2025-03-24T12:15:44.698645Z"
    },
    "papermill": {
     "duration": 0.015454,
     "end_time": "2025-03-24T12:15:44.701404",
     "exception": false,
     "start_time": "2025-03-24T12:15:44.685950",
     "status": "completed"
    },
    "tags": []
   },
   "outputs": [],
   "source": [
    "def univariate(column):\n",
    "    \"\"\"\n",
    "    Automated Univariate Analysis: Selects the best visualization \n",
    "    based on data type and characteristics.\n",
    "    \n",
    "    Parameters:\n",
    "    - graphName: str -> The preferred visualization type (optional, default logic applies).\n",
    "    - column: pandas Series -> The column to analyze.\n",
    "    \n",
    "    Returns:\n",
    "    - Displays the appropriate visualization.\n",
    "    - Prints Key Statistical Measures in a tabular format for numerical data.\n",
    "    \"\"\"\n",
    "    \n",
    "    columnType = column.dtype  # Get the column data type\n",
    "\n",
    "    if pd.api.types.is_numeric_dtype(column):  # Check if numeric\n",
    "        # Step 1: Key Statistical Measures (Default)\n",
    "        key_stats = column.describe().to_frame().T  # Convert to DataFrame for tabular format\n",
    "        key_stats.rename(index={0: \"Statistics\"}, inplace=True)\n",
    "        print(\"📊 **Key Statistical Measures**:\\n\")\n",
    "        print(key_stats.to_string(index=False), \"\\n\")  # Print neatly formatted table\n",
    "\n",
    "        # Step 2: Automated Graph Selection\n",
    "        unique_values = column.nunique()\n",
    "\n",
    "        plt.figure(figsize=(8, 4))  # Set figure size\n",
    "        \n",
    "        if unique_values < 20:  # Discrete Data\n",
    "            print(\"🔍 Using Histogram for Discrete Data\")\n",
    "            sns.histplot(column, bins=10, kde=False, color=\"skyblue\")\n",
    "        \n",
    "        else:  # Continuous Data\n",
    "            print(\"🔍 Using KDE for Continuous Data\")\n",
    "            sns.kdeplot(column, fill=True, color=\"orange\")\n",
    "\n",
    "        plt.title(f\"Univariate Analysis of {column.name}\")\n",
    "        plt.xlabel(column.name)\n",
    "        plt.ylabel(\"Frequency\")\n",
    "        plt.show()\n",
    "\n",
    "    elif pd.api.types.is_categorical_dtype(column) or column.nunique() < 10:  # Categorical Data\n",
    "        category_counts = column.value_counts(normalize=True) * 100\n",
    "        category_table = pd.DataFrame({\"Category\": category_counts.index, \"Percentage\": category_counts.values})\n",
    "        print(\"📊 **Category Frequency Counts**:\\n\")\n",
    "        print(category_table.to_string(index=False), \"\\n\")  # Print neatly formatted category table\n",
    "\n",
    "        plt.figure(figsize=(8, 4))\n",
    "        print(\"🔍 Using Bar Chart for Category Distribution\")\n",
    "        sns.countplot(y=column, palette=\"pastel\")\n",
    "\n",
    "        plt.title(f\"Univariate Analysis of {column.name}\")\n",
    "        plt.xlabel(\"Count\")\n",
    "        plt.ylabel(column.name)\n",
    "        plt.show()\n",
    "\n",
    "    else:\n",
    "        print(\"⚠️ Unsupported Data Type\")\n",
    "\n",
    "    return True\n"
   ]
  },
  {
   "cell_type": "code",
   "execution_count": 3,
   "id": "b6fb8c68",
   "metadata": {
    "execution": {
     "iopub.execute_input": "2025-03-24T12:15:44.709060Z",
     "iopub.status.busy": "2025-03-24T12:15:44.708707Z",
     "iopub.status.idle": "2025-03-24T12:15:44.714859Z",
     "shell.execute_reply": "2025-03-24T12:15:44.713746Z"
    },
    "papermill": {
     "duration": 0.011813,
     "end_time": "2025-03-24T12:15:44.716607",
     "exception": false,
     "start_time": "2025-03-24T12:15:44.704794",
     "status": "completed"
    },
    "tags": []
   },
   "outputs": [],
   "source": [
    "def detect_outliers_iqr(dataFrame):\n",
    "    try:\n",
    "        numeric_cols = dataFrame.select_dtypes(include=['int64', 'float64']).columns.tolist()\n",
    "        for column in numeric_cols:\n",
    "            Q1 = dataFrame[column].quantile(0.25)\n",
    "            Q3 = dataFrame[column].quantile(0.75)\n",
    "            IQR = Q3 - Q1\n",
    "            lower_bound = max(Q1 - 1.5 * IQR, dataFrame[column].min())\n",
    "            upper_bound = min(Q3 + 1.5 * IQR, dataFrame[column].max())\n",
    "            dataFrame[column] = np.where(dataFrame[column] < lower_bound, lower_bound, dataFrame[column])\n",
    "            dataFrame[column] = np.where(dataFrame[column] > upper_bound, upper_bound, dataFrame[column])\n",
    "            # print(f\"Outliers handled in column: {column}\")\n",
    "        return dataFrame\n",
    "    except Exception as e:\n",
    "        print(f\"Failed to detect outliers in {column}: {e}\")\n",
    "        raise"
   ]
  },
  {
   "cell_type": "code",
   "execution_count": 4,
   "id": "40900e3d",
   "metadata": {
    "execution": {
     "iopub.execute_input": "2025-03-24T12:15:44.724473Z",
     "iopub.status.busy": "2025-03-24T12:15:44.724139Z",
     "iopub.status.idle": "2025-03-24T12:15:44.730802Z",
     "shell.execute_reply": "2025-03-24T12:15:44.729747Z"
    },
    "papermill": {
     "duration": 0.012643,
     "end_time": "2025-03-24T12:15:44.732602",
     "exception": false,
     "start_time": "2025-03-24T12:15:44.719959",
     "status": "completed"
    },
    "tags": []
   },
   "outputs": [],
   "source": [
    "def FeatureEngineering_File_Extraction(repo_url, kaggle_repo_url, FeatureEngineering_path):\n",
    "    if os.path.exists(kaggle_repo_url):\n",
    "        print(\"Repository already exists locally.\")\n",
    "        repo = Repo(kaggle_repo_url)  \n",
    "        repo.config_writer().set_value(\"user\", \"name\", name).release()\n",
    "        repo.config_writer().set_value(\"user\", \"email\", email).release()\n",
    "        origin = repo.remote(name='origin')  \n",
    "        origin.pull() \n",
    "        print(\"Successfully pulled the latest changes.\")\n",
    "    else:\n",
    "        repo = Repo.clone_from(repo_url, kaggle_repo_url)\n",
    "        repo.config_writer().set_value(\"user\", \"name\", name).release()\n",
    "        repo.config_writer().set_value(\"user\", \"email\", email).release()\n",
    "        print(\"Successfully cloned the repository.\")\n",
    "\n",
    "   \n",
    "    output_files = os.listdir(FeatureEngineering_path)\n",
    "    FeatureEngineering_File = max(\n",
    "        [file for file in output_files if file.startswith(\"FE_\") and file.endswith('records.json')]\n",
    "    )\n",
    "\n",
    "   \n",
    "    FeatureEngineering_File = pd.read_json(os.path.join(FeatureEngineering_path, FeatureEngineering_File))\n",
    "\n",
    "    return FeatureEngineering_File"
   ]
  },
  {
   "cell_type": "code",
   "execution_count": 5,
   "id": "a960a0f5",
   "metadata": {
    "execution": {
     "iopub.execute_input": "2025-03-24T12:15:44.740998Z",
     "iopub.status.busy": "2025-03-24T12:15:44.740601Z",
     "iopub.status.idle": "2025-03-24T12:15:44.748621Z",
     "shell.execute_reply": "2025-03-24T12:15:44.747632Z"
    },
    "papermill": {
     "duration": 0.013996,
     "end_time": "2025-03-24T12:15:44.750252",
     "exception": false,
     "start_time": "2025-03-24T12:15:44.736256",
     "status": "completed"
    },
    "tags": []
   },
   "outputs": [],
   "source": [
    "def PushToGithub(filename,destination_path):\n",
    "    try:\n",
    "        if os.path.exists(kaggle_repo_url):\n",
    "            print(\"Already cloned and the repo file exists\")\n",
    "            repo = Repo(kaggle_repo_url)\n",
    "            repo.config_writer().set_value(\"user\", \"name\", name).release()\n",
    "            repo.config_writer().set_value(\"user\", \"email\", email).release()\n",
    "            origin = repo.remote(name='origin')\n",
    "            origin.pull()\n",
    "            print(\"Successfully pulled the git repo before push\")\n",
    "        else:\n",
    "            repo = Repo.clone_from(repo_url, kaggle_repo_url)\n",
    "            repo.config_writer().set_value(\"user\", \"name\", name).release()\n",
    "            repo.config_writer().set_value(\"user\", \"email\", email).release()\n",
    "            print(\"Successfully cloned the git repo\")\n",
    "        \n",
    "        if os.path.exists(destination_path):\n",
    "            shutil.copyfile(f'/kaggle/working/{filename}', f'{destination_path}/{filename}')\n",
    "        else:\n",
    "            os.makedirs(destination_path)\n",
    "            shutil.copyfile(f'/kaggle/working/{filename}', f'{destination_path}/{filename}')\n",
    "        \n",
    "        repo = Repo(kaggle_repo_url)\n",
    "        repo.index.add([f\"{destination_path}/{filename}\"])\n",
    "        timestamp = datetime.now(ist).strftime(\"%Y-%m-%d_%H:%M:%S\")\n",
    "        repo.index.commit(f\"{timestamp} Added files from Kaggle notebook, {filename}\")\n",
    "        origin = repo.remote(name=\"origin\")\n",
    "        # push_result = origin.push()\n",
    "        push_result = origin.push(refspec=f\"HEAD:refs/heads/eda\")\n",
    "        \n",
    "        if push_result:\n",
    "            print(\"Output files successfully pushed to GitHub!\")\n",
    "        else:\n",
    "            print(\"Output files pushed to GitHub failed:(\")\n",
    "        return True\n",
    "    \n",
    "    except Exception as e:\n",
    "        print(f\"An error occurred at git automation code: {e}\")\n",
    "        return False"
   ]
  },
  {
   "cell_type": "code",
   "execution_count": 6,
   "id": "5942911f",
   "metadata": {
    "execution": {
     "iopub.execute_input": "2025-03-24T12:15:44.757880Z",
     "iopub.status.busy": "2025-03-24T12:15:44.757499Z",
     "iopub.status.idle": "2025-03-24T12:15:44.765104Z",
     "shell.execute_reply": "2025-03-24T12:15:44.764081Z"
    },
    "papermill": {
     "duration": 0.013459,
     "end_time": "2025-03-24T12:15:44.766967",
     "exception": false,
     "start_time": "2025-03-24T12:15:44.753508",
     "status": "completed"
    },
    "tags": []
   },
   "outputs": [],
   "source": [
    "def pre_eda_validation(dataFrame):\n",
    "\n",
    "    report_df = pd.DataFrame({\n",
    "        \"missing_values\": dataFrame.isnull().sum(),\n",
    "        \"duplicates\": [dataFrame.duplicated().sum()] * len(dataFrame.columns),\n",
    "        \"data_types\": dataFrame.dtypes.astype(str),\n",
    "        \"cardinality\": dataFrame.nunique()\n",
    "    }).reset_index().rename(columns={\"index\": \"columns\"})\n",
    "\n",
    "    # Extract inconsistent records for group1\n",
    "    inconsistent_group1 = dataFrame[dataFrame.duplicated(subset=[\"channelId\"], keep=False)][\n",
    "        [\"channelId\", \"channelName\", \"channelCustomUrl\", \"channelGrowthScoreRank\"]]\n",
    "\n",
    "    # Extract inconsistent records for group2\n",
    "    inconsistent_group2 = dataFrame[dataFrame.duplicated(subset=[\"videoId\"], keep=False)][\n",
    "        [\"videoId\", \"videoTitle\", \"videoEngagementScoreRank\"]]\n",
    "    DataFrameHandelledOutliers = detect_outliers_iqr(dataFrame)\n",
    "    report = {\n",
    "        \"Pre_EDA\": report_df.to_dict(orient=\"records\"),\n",
    "        \"inconsistent_records_channelLevel\": inconsistent_group1.to_dict(orient=\"records\"),\n",
    "        \"inconsistent_records_videolevel\": inconsistent_group2.to_dict(orient=\"records\"),\n",
    "        \"Dataframe\": DataFrameHandelledOutliers.to_dict(orient=\"records\")\n",
    "    }\n",
    "    record_count = len(DataFrameHandelledOutliers)\n",
    "    timestamp = datetime.now(ist).strftime(\"%Y-%m-%d_%H_%M_%S\")\n",
    "    filename = f\"PEDA_{timestamp}_{record_count}_records.json\"\n",
    "\n",
    "    if report[\"Pre_EDA\"]:\n",
    "        with open(filename, \"w\") as json_file:\n",
    "            json.dump(report, json_file, indent=4)\n",
    "        print(f\"DataFrame validation report saved as {filename}\")\n",
    "    else:\n",
    "        print(\"No data to save since empty DataFrame returned.\")\n",
    "\n",
    "    destination_path = '/kaggle/working/DevOps-YouTube-Trends/ExploratoryDataAnalysis/PEDA/Daily'\n",
    "    PushToGithub(filename, destination_path)\n",
    "        \n",
    "    return True\n"
   ]
  },
  {
   "cell_type": "code",
   "execution_count": 7,
   "id": "e20c5646",
   "metadata": {
    "execution": {
     "iopub.execute_input": "2025-03-24T12:15:44.775922Z",
     "iopub.status.busy": "2025-03-24T12:15:44.775517Z",
     "iopub.status.idle": "2025-03-24T12:15:44.780382Z",
     "shell.execute_reply": "2025-03-24T12:15:44.779268Z"
    },
    "papermill": {
     "duration": 0.011564,
     "end_time": "2025-03-24T12:15:44.782135",
     "exception": false,
     "start_time": "2025-03-24T12:15:44.770571",
     "status": "completed"
    },
    "tags": []
   },
   "outputs": [],
   "source": [
    "def main(repo_url, kaggle_repo_url, FeatureEngineering_path, ExploratoryDataAnalysis_path):\n",
    "    FeatureEngineering_File = FeatureEngineering_File_Extraction(repo_url, kaggle_repo_url, FeatureEngineering_path)\n",
    "    pre_eda_validation(FeatureEngineering_File)\n",
    "    univariateTargetColumns = ['']\n",
    "    univariate(FeatureEngineering_File[\"videoPublishMonth\"])\n",
    "    return True"
   ]
  },
  {
   "cell_type": "code",
   "execution_count": 8,
   "id": "8ad5e590",
   "metadata": {
    "execution": {
     "iopub.execute_input": "2025-03-24T12:15:44.789926Z",
     "iopub.status.busy": "2025-03-24T12:15:44.789540Z",
     "iopub.status.idle": "2025-03-24T12:15:51.097148Z",
     "shell.execute_reply": "2025-03-24T12:15:51.096210Z"
    },
    "papermill": {
     "duration": 6.3135,
     "end_time": "2025-03-24T12:15:51.098932",
     "exception": false,
     "start_time": "2025-03-24T12:15:44.785432",
     "status": "completed"
    },
    "tags": []
   },
   "outputs": [
    {
     "name": "stdout",
     "output_type": "stream",
     "text": [
      "Successfully cloned the repository.\n",
      "DataFrame validation report saved as PEDA_2025-03-24_17_45_49_376_records.json\n",
      "Already cloned and the repo file exists\n",
      "Successfully pulled the git repo before push\n",
      "Output files successfully pushed to GitHub!\n",
      "📊 **Key Statistical Measures**:\n",
      "\n",
      " count     mean     std  min  25%  50%  75%  max\n",
      " 376.0 6.279255 3.38612  1.0  3.0  6.0  9.0 12.0 \n",
      "\n",
      "🔍 Using Histogram for Discrete Data\n"
     ]
    },
    {
     "name": "stderr",
     "output_type": "stream",
     "text": [
      "/usr/local/lib/python3.10/dist-packages/seaborn/_oldcore.py:1119: FutureWarning: use_inf_as_na option is deprecated and will be removed in a future version. Convert inf values to NaN before operating instead.\n",
      "  with pd.option_context('mode.use_inf_as_na', True):\n"
     ]
    },
    {
     "data": {
      "image/png": "[encoded data removed]",
      "text/plain": [
       "<Figure size 800x400 with 1 Axes>"
      ]
     },
     "metadata": {},
     "output_type": "display_data"
    }
   ],
   "source": [
    "if __name__ == \"__main__\":    \n",
    "    user_secrets = UserSecretsClient()\n",
    "    secret_value_0 = user_secrets.get_secret(\"EDARepoOwner\")\n",
    "    secret_value_1 = user_secrets.get_secret(\"EDARepoOwnerMail\")\n",
    "    secret_value_2 = user_secrets.get_secret(\"EDARepoURL\")\n",
    "    \n",
    "    name = secret_value_0\n",
    "    email = secret_value_1\n",
    "    repo_url = secret_value_2\n",
    "    \n",
    "    kaggle_repo_url = '/kaggle/working/DevOps-YouTube-Trends'\n",
    "    FeatureEngineering_path = '/kaggle/working/DevOps-YouTube-Trends/FeatureEngineering/Daily'\n",
    "    ExploratoryDataAnalysis_path = '/kaggle/working/DevOps-YouTube-Trends/ExploratoryDataAnalysis'\n",
    "\n",
    "    ist = timezone(\"Asia/Kolkata\")\n",
    "    \n",
    "    main(repo_url, kaggle_repo_url, FeatureEngineering_path, ExploratoryDataAnalysis_path)"
   ]
  },
  {
   "cell_type": "code",
   "execution_count": null,
   "id": "05676121",
   "metadata": {
    "papermill": {
     "duration": 0.003593,
     "end_time": "2025-03-24T12:15:51.106525",
     "exception": false,
     "start_time": "2025-03-24T12:15:51.102932",
     "status": "completed"
    },
    "tags": []
   },
   "outputs": [],
   "source": []
  }
 ],
 "metadata": {
  "kaggle": {
   "accelerator": "none",
   "dataSources": [],
   "isGpuEnabled": false,
   "isInternetEnabled": true,
   "language": "python",
   "sourceType": "notebook"
  },
  "kernelspec": {
   "display_name": "Python 3",
   "language": "python",
   "name": "python3"
  },
  "language_info": {
   "codemirror_mode": {
    "name": "ipython",
    "version": 3
   },
   "file_extension": ".py",
   "mimetype": "text/x-python",
   "name": "python",
   "nbconvert_exporter": "python",
   "pygments_lexer": "ipython3",
   "version": "3.10.12"
  },
  "papermill": {
   "default_parameters": {},
   "duration": 13.006344,
   "end_time": "2025-03-24T12:15:51.831503",
   "environment_variables": {},
   "exception": null,
   "input_path": "__notebook__.ipynb",
   "output_path": "__notebook__.ipynb",
   "parameters": {},
   "start_time": "2025-03-24T12:15:38.825159",
   "version": "2.6.0"
  }
 },
 "nbformat": 4,
 "nbformat_minor": 5
}
